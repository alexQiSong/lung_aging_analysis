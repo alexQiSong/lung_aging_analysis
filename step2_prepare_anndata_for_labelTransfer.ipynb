{
 "cells": [
  {
   "cell_type": "markdown",
   "metadata": {},
   "source": [
    "This script prepares naftali lung data and nuc-seq data to perform label transfer at https://beta.fastgenomics.org/analyses/scarches (Transfer labels from Human Lung Cell Atlas)"
   ]
  },
  {
   "cell_type": "code",
   "execution_count": 1,
   "metadata": {},
   "outputs": [],
   "source": [
    "import scanpy as sc\n",
    "import pandas as pd\n",
    "import numpy as np\n",
    "import scipy as spy\n",
    "from anndata import AnnData,concat"
   ]
  },
  {
   "cell_type": "markdown",
   "metadata": {},
   "source": [
    "read processed data"
   ]
  },
  {
   "cell_type": "code",
   "execution_count": 2,
   "metadata": {},
   "outputs": [],
   "source": [
    "anndata_yale_smoker = sc.read_h5ad(\"/ocean/projects/hmcmutc/qsong/projects/lung_aging/data/step1_yale_smoker_processed.h5ad\")\n",
    "anndata_yale_nonsmoker = sc.read_h5ad(\"/ocean/projects/hmcmutc/qsong/projects/lung_aging/data/step1_yale_nonsmoker_processed.h5ad\")\n",
    "\n",
    "anndata_car_smoker = sc.read_h5ad(\"/ocean/projects/hmcmutc/qsong/projects/lung_aging/data/step1_car_smoker_processed.h5ad\")\n",
    "anndata_car_nonsmoker = sc.read_h5ad(\"/ocean/projects/hmcmutc/qsong/projects/lung_aging/data/step1_car_nonsmoker_processed.h5ad\")\n",
    "\n",
    "anndata_nuc_smoker = sc.read_h5ad(\"/ocean/projects/hmcmutc/qsong/projects/lung_aging/data/step1_nuc_smoker_processed.h5ad\")\n",
    "anndata_nuc_nonsmoker = sc.read_h5ad(\"/ocean/projects/hmcmutc/qsong/projects/lung_aging/data/step1_nuc_nonsmoker_processed.h5ad\")"
   ]
  },
  {
   "cell_type": "markdown",
   "metadata": {},
   "source": [
    "Keep only the HLCA mapping genes and use raw counts"
   ]
  },
  {
   "cell_type": "code",
   "execution_count": 4,
   "metadata": {},
   "outputs": [
    {
     "name": "stderr",
     "output_type": "stream",
     "text": [
      "/jet/home/qsong/.conda/envs/lung_aging/lib/python3.9/site-packages/anndata/_core/raw.py:139: FutureWarning: X.dtype being converted to np.float32 from float64. In the next version of anndata (0.9) conversion will not be automatic. Pass dtype explicitly to avoid this warning. Pass `AnnData(X, dtype=X.dtype, ...)` to get the future behavour.\n",
      "  return anndata.AnnData(\n",
      "/jet/home/qsong/.conda/envs/lung_aging/lib/python3.9/site-packages/anndata/_core/raw.py:139: FutureWarning: X.dtype being converted to np.float32 from float64. In the next version of anndata (0.9) conversion will not be automatic. Pass dtype explicitly to avoid this warning. Pass `AnnData(X, dtype=X.dtype, ...)` to get the future behavour.\n",
      "  return anndata.AnnData(\n"
     ]
    }
   ],
   "source": [
    "mapping_genes = pd.read_csv(\"data/HLCA_scarches_gene_order.csv\")[\"gene_symbol\"]\n",
    "anndata_yale_smoker = anndata_yale_smoker.raw[:,np.intersect1d(anndata_yale_smoker.raw.var_names, mapping_genes)].to_adata()\n",
    "anndata_yale_nonsmoker = anndata_yale_nonsmoker.raw[:,np.intersect1d(anndata_yale_nonsmoker.raw.var_names, mapping_genes)].to_adata()\n",
    "\n",
    "anndata_car_smoker = anndata_car_smoker.raw[:,np.intersect1d(anndata_car_smoker.raw.var_names, mapping_genes)].to_adata()\n",
    "anndata_car_nonsmoker = anndata_car_nonsmoker.raw[:,np.intersect1d(anndata_car_nonsmoker.raw.var_names, mapping_genes)].to_adata()\n",
    "\n",
    "anndata_nuc_smoker = anndata_nuc_smoker.raw[:,np.intersect1d(anndata_nuc_smoker.raw.var_names, mapping_genes)].to_adata()\n",
    "anndata_nuc_nonsmoker = anndata_nuc_nonsmoker.raw[:,np.intersect1d(anndata_nuc_nonsmoker.raw.var_names, mapping_genes)].to_adata()"
   ]
  },
  {
   "cell_type": "markdown",
   "metadata": {},
   "source": [
    "Keep only \"dataset\" as metadata to reduce file size"
   ]
  },
  {
   "cell_type": "code",
   "execution_count": 5,
   "metadata": {},
   "outputs": [],
   "source": [
    "anndata_yale_smoker.obs = anndata_yale_smoker.obs.loc[:,[\"dataset\"]]\n",
    "anndata_yale_nonsmoker.obs = anndata_yale_nonsmoker.obs.loc[:,[\"dataset\"]]\n",
    "\n",
    "anndata_car_smoker.obs = anndata_car_smoker.obs.loc[:,[\"dataset\"]]\n",
    "anndata_car_nonsmoker.obs = anndata_car_nonsmoker.obs.loc[:,[\"dataset\"]]\n",
    "\n",
    "anndata_nuc_smoker.obs = anndata_nuc_smoker.obs.loc[:,['dataset']]\n",
    "anndata_nuc_nonsmoker.obs = anndata_nuc_nonsmoker.obs.loc[:,['dataset']]\n",
    "anndata_nuc_smoker.obs['dataset'] = \"John\"\n",
    "anndata_nuc_nonsmoker.obs['dataset'] = \"John\""
   ]
  },
  {
   "cell_type": "code",
   "execution_count": 6,
   "metadata": {},
   "outputs": [],
   "source": [
    "anndata_yale_smoker.X = anndata_yale_smoker.X.astype(np.int32)\n",
    "anndata_yale_nonsmoker.X = anndata_yale_nonsmoker.X.astype(np.int32)\n",
    "\n",
    "anndata_car_smoker.X = anndata_car_smoker.X.astype(np.int32)\n",
    "anndata_car_nonsmoker.X = anndata_car_nonsmoker.X.astype(np.int32)\n",
    "\n",
    "anndata_nuc_smoker.X = anndata_nuc_smoker.X.astype(np.int32)\n",
    "anndata_nuc_nonsmoker.X = anndata_nuc_nonsmoker.X.astype(np.int32)"
   ]
  },
  {
   "cell_type": "markdown",
   "metadata": {},
   "source": [
    "Combine datasets"
   ]
  },
  {
   "cell_type": "code",
   "execution_count": 7,
   "metadata": {},
   "outputs": [],
   "source": [
    "combined_smoker = concat([anndata_yale_smoker, anndata_car_smoker])\n",
    "combined_nonsmoker = concat([anndata_yale_nonsmoker, anndata_car_nonsmoker])"
   ]
  },
  {
   "cell_type": "code",
   "execution_count": 8,
   "metadata": {},
   "outputs": [],
   "source": [
    "anndata_yale_smoker.write_h5ad(\"data/step2_yale_smoker_scArchesInput.h5ad\")\n",
    "anndata_yale_nonsmoker.write_h5ad(\"data/step2_yale_nonsmoker_scArchesInput.h5ad\")\n",
    "\n",
    "combined_smoker.write_h5ad(\"data/step2_combined_smoker_scArchesInput.h5ad\")\n",
    "combined_nonsmoker.write_h5ad(\"data/step2_combined_nonsmoker_scArchesInput.h5ad\")\n",
    "\n",
    "anndata_nuc_smoker.write_h5ad(\"data/step2_nuc_smoker_scArchesInput.h5ad\")\n",
    "anndata_nuc_nonsmoker.write_h5ad(\"data/step2_nuc_nonsmoker_scArchesInput.h5ad\")"
   ]
  }
 ],
 "metadata": {
  "kernelspec": {
   "display_name": "lung_aging",
   "language": "python",
   "name": "lung_aging"
  },
  "language_info": {
   "codemirror_mode": {
    "name": "ipython",
    "version": 3
   },
   "file_extension": ".py",
   "mimetype": "text/x-python",
   "name": "python",
   "nbconvert_exporter": "python",
   "pygments_lexer": "ipython3",
   "version": "3.9.13"
  }
 },
 "nbformat": 4,
 "nbformat_minor": 4
}
