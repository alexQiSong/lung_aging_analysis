{
 "cells": [
  {
   "cell_type": "markdown",
   "metadata": {},
   "source": [
    "This script performs LOO test on nuclear-seq dataset using baseline linear regression pipeline"
   ]
  },
  {
   "cell_type": "code",
   "execution_count": 2,
   "metadata": {},
   "outputs": [
    {
     "name": "stderr",
     "output_type": "stream",
     "text": [
      "/jet/home/qsong/.conda/envs/lung_aging/lib/python3.9/site-packages/mnnpy/utils.py:30: NumbaPerformanceWarning: \u001b[1m\u001b[1m\u001b[1mnp.dot() is faster on contiguous arrays, called on (array(float32, 1d, A), array(float32, 1d, A))\u001b[0m\u001b[0m\u001b[0m\n",
      "  dist[i, j] = np.dot(m[i], n[j])\n",
      "/jet/home/qsong/.conda/envs/lung_aging/lib/python3.9/site-packages/mnnpy/utils.py:30: NumbaPerformanceWarning: \u001b[1m\u001b[1mnp.dot() is faster on contiguous arrays, called on (array(float32, 1d, A), array(float32, 1d, A))\u001b[0m\u001b[0m\n",
      "  dist[i, j] = np.dot(m[i], n[j])\n",
      "/jet/home/qsong/.conda/envs/lung_aging/lib/python3.9/site-packages/mnnpy/utils.py:205: NumbaPerformanceWarning: \u001b[1m\u001b[1m\u001b[1mnp.dot() is faster on contiguous arrays, called on (array(float32, 1d, C), array(float32, 1d, A))\u001b[0m\u001b[0m\u001b[0m\n",
      "  scale = np.dot(working, grad)\n",
      "/jet/home/qsong/.conda/envs/lung_aging/lib/python3.9/site-packages/mnnpy/utils.py:205: NumbaPerformanceWarning: \u001b[1m\u001b[1mnp.dot() is faster on contiguous arrays, called on (array(float32, 1d, C), array(float32, 1d, A))\u001b[0m\u001b[0m\n",
      "  scale = np.dot(working, grad)\n",
      "/jet/home/qsong/.conda/envs/lung_aging/lib/python3.9/site-packages/mnnpy/utils.py:215: NumbaPerformanceWarning: \u001b[1m\u001b[1m\u001b[1mnp.dot() is faster on contiguous arrays, called on (array(float32, 1d, C), array(float32, 1d, A))\u001b[0m\u001b[0m\u001b[0m\n",
      "  curproj = np.dot(grad, curcell)\n",
      "/jet/home/qsong/.conda/envs/lung_aging/lib/python3.9/site-packages/mnnpy/utils.py:215: NumbaPerformanceWarning: \u001b[1m\u001b[1mnp.dot() is faster on contiguous arrays, called on (array(float32, 1d, C), array(float32, 1d, A))\u001b[0m\u001b[0m\n",
      "  curproj = np.dot(grad, curcell)\n"
     ]
    }
   ],
   "source": [
    "import scanpy as sc\n",
    "import pandas as pd\n",
    "import numpy as np\n",
    "import seaborn as sns\n",
    "import sklearn\n",
    "import mnnpy\n",
    "\n",
    "from functools import reduce\n",
    "from scipy.io import mmread\n",
    "from scipy.sparse import csr_matrix\n",
    "from anndata import AnnData\n",
    "from tqdm import tqdm"
   ]
  },
  {
   "cell_type": "markdown",
   "metadata": {},
   "source": [
    "Read nuc-seq data"
   ]
  },
  {
   "cell_type": "code",
   "execution_count": 3,
   "metadata": {},
   "outputs": [],
   "source": [
    "nuc_nonsmoker = sc.read_h5ad(\"data/step1_nuc_nonsmoker_processed.h5ad\")\n",
    "nuc_smoker = sc.read_h5ad(\"data/step1_nuc_smoker_processed.h5ad\")"
   ]
  },
  {
   "cell_type": "markdown",
   "metadata": {},
   "source": [
    "remove donors with ages < 40"
   ]
  },
  {
   "cell_type": "code",
   "execution_count": 4,
   "metadata": {},
   "outputs": [],
   "source": [
    "nuc_nonsmoker = nuc_nonsmoker[nuc_nonsmoker.obs[\"Age\"] >= 40,]\n",
    "nuc_smoker = nuc_smoker[nuc_smoker.obs[\"Age\"] >= 40, ]"
   ]
  },
  {
   "cell_type": "markdown",
   "metadata": {},
   "source": [
    "Define different types of gene sets used as input features"
   ]
  },
  {
   "cell_type": "code",
   "execution_count": 5,
   "metadata": {},
   "outputs": [
    {
     "name": "stderr",
     "output_type": "stream",
     "text": [
      "/jet/home/qsong/.conda/envs/lung_aging/lib/python3.9/site-packages/anndata/_core/anndata.py:121: ImplicitModificationWarning: Transforming to str index.\n",
      "  warnings.warn(\"Transforming to str index.\", ImplicitModificationWarning)\n",
      "/jet/home/qsong/.conda/envs/lung_aging/lib/python3.9/site-packages/anndata/_core/anndata.py:121: ImplicitModificationWarning: Transforming to str index.\n",
      "  warnings.warn(\"Transforming to str index.\", ImplicitModificationWarning)\n"
     ]
    }
   ],
   "source": [
    "test_genes = dict()\n",
    "\n",
    "# We use gene list from HLCA data\n",
    "test_genes[\"all_smoker_baseline\"] = sc.read_h5ad(\"data/step1_HLCA_smoker_processed.h5ad\").var_names.tolist()\n",
    "test_genes[\"all_nonsmoker_baseline\"] = sc.read_h5ad(\"data/step1_HLCA_nonsmoker_processed.h5ad\").var_names.tolist()"
   ]
  },
  {
   "cell_type": "markdown",
   "metadata": {},
   "source": [
    "Function for extracting expression data"
   ]
  },
  {
   "cell_type": "code",
   "execution_count": 6,
   "metadata": {},
   "outputs": [],
   "source": [
    "'''\n",
    "Filter anndata by cell types, marker genes, and subjects. Subjects are selected by min_cells\n",
    "Return filtered expression matrix and ages.\n",
    "'''\n",
    "def filter_anndata(anndata, ct_column, cts, donor_column, age_column, marker_genes = None, min_cells = 50):\n",
    "        \n",
    "    # Keep rows annotated with current cell type, and columns annotated with marker genes,\n",
    "    comm_genes = np.intersect1d(anndata.var_names, marker_genes)\n",
    "    #diff_genes = np.setdiff1d(marker_genes,anndata.var_names)\n",
    "    anndata = anndata[anndata.obs[ct_column].isin(cts), :]\n",
    "    anndata = anndata[:, anndata.var_names.isin(comm_genes)]\n",
    "    \n",
    "    # For marker genes not present in the anndata, add these genes as expressions = 0 to anndata object.\n",
    "    '''\n",
    "    if diff_genes.shape[0] != 0:\n",
    "        padding_arr = np.zeros((anndata.shape[0],diff_genes.shape[0]))\n",
    "        padding_obs = anndata.obs.copy()\n",
    "        padding_var = pd.DataFrame([i for i in range(diff_genes.shape[0])], index = diff_genes)\n",
    "        anndata_padding = AnnData(X=padding_arr, obs = padding_obs, var = padding_var)\n",
    "        anndata = concat([anndata, anndata_padding],join = \"outer\", axis = 1)\n",
    "        anndata.obs = padding_obs\n",
    "    '''\n",
    "    # Reorder the gene columns\n",
    "    anndata = anndata[:,comm_genes]\n",
    "    \n",
    "    # Select subjects having number of cells greater than min_cells \n",
    "    subjects = anndata.obs[donor_column]\n",
    "    subjects_count = subjects.groupby(subjects.values).count()\n",
    "    selected_subjects = subjects_count.loc[subjects_count >= min_cells].index \n",
    "    \n",
    "    # Further subset anndata using the selected subjects\n",
    "    anndata = anndata[anndata.obs[donor_column].isin(selected_subjects),]\n",
    "    \n",
    "    # Generate filtered expression matrix and ages\n",
    "    expr = anndata.to_df()\n",
    "    expr.index = anndata.obs[donor_column].values\n",
    "    ages = anndata.obs[age_column]\n",
    "    ages.index = expr.index\n",
    "        \n",
    "    return expr, ages"
   ]
  },
  {
   "cell_type": "markdown",
   "metadata": {},
   "source": [
    "cell type mapping between the two datasets key(Nuc-seq types) -> val(HLCA cell types)"
   ]
  },
  {
   "cell_type": "code",
   "execution_count": 7,
   "metadata": {},
   "outputs": [],
   "source": [
    "ct_mapping = {\n",
    "    \"LymphEndo\":[\"Lymphatic EC\",\"Lymphatic EC mature\"],\n",
    "    \"B.type1\":[\"B cells\"],\n",
    "    \"B.type2\":[\"B cells\"],\n",
    "    \"B.type3\":[\"B cells\"],\n",
    "    \"VEcapillary\":[\"EC capillary\",\"EC aerocyte capillary\",\"EC general capillary\"],\n",
    "    \"VEaerocyte\":[\"EC aerocyte capillary\"],\n",
    "    \"VEarterial\":[\"EC arterial\"],\n",
    "    \"VEvenous\":[\"EC venous pulmonary\",\"EC venous systemic\",\"EC venous\"],\n",
    "    \"FibroblastAdventitial\":[\"Adventitial fibroblasts\"],\n",
    "    \"FibroblastAlveolar\":[\"Alveolar fibroblasts\"],\n",
    "    \"Basal\":[\"Suprabasal\",\"Basal\",\"Basal resting\"],\n",
    "    \"Goblet\":[\"Goblet\"],\n",
    "    \"AlvMac\":[\"Alveolar macrophages\"],\n",
    "    \"AT1\":[\"AT1\"],\n",
    "    \"AT2\":[\"AT2\"],\n",
    "    \"AT2transitional\":[\"Transitional AT2\"],\n",
    "    \"cDC\":[\"Dendritic cells\"],\n",
    "    \"Ciliated\":[\"Multiciliated lineage\"],\n",
    "    \"cMonocyte\":[\"Classical monocytes\"],\n",
    "    \"Mac\":[\"Macrophages\"],\n",
    "    \"Macrophage.type2\":[\"Macrophages\"],\n",
    "    \"Mast\":[\"Mast cells\"],\n",
    "    \"Megakaryocyte\":[\"Megakaryocytes\"],\n",
    "    \"ncMonocyte\":[\"Non-classical monocytes\"],\n",
    "    \"NK\":[\"Innate lymphoid cell NK\",\"NK cells\"],\n",
    "    \"SMC\":[\"Smooth muscle\"],\n",
    "    \"T\":[\"T cell lineage\"],\n",
    "    \"Tcyto\":[\"CD8 T cells\"],\n",
    "    \"Treg\":[\"CD4 T cells\"]\n",
    "}"
   ]
  },
  {
   "cell_type": "code",
   "execution_count": 8,
   "metadata": {},
   "outputs": [
    {
     "name": "stdout",
     "output_type": "stream",
     "text": [
      "Group: nonsmoker; Nuc cell type: LymphEndo; HLCA cell types: ['Lymphatic EC', 'Lymphatic EC mature'] finished.\n",
      "Group: nonsmoker; Nuc cell type: B.type1; HLCA cell types: ['B cells'] finished.\n",
      "Group: nonsmoker; Nuc cell type: B.type2; HLCA cell types: ['B cells'] finished.\n",
      "Group: nonsmoker; Nuc cell type: B.type3; HLCA cell types: ['B cells'] finished.\n",
      "Group: nonsmoker; Nuc cell type: VEcapillary; HLCA cell types: ['EC capillary', 'EC aerocyte capillary', 'EC general capillary'] finished.\n",
      "Group: nonsmoker; Nuc cell type: VEaerocyte; HLCA cell types: ['EC aerocyte capillary'] finished.\n",
      "Group: nonsmoker; Nuc cell type: VEarterial; HLCA cell types: ['EC arterial'] finished.\n",
      "Group: nonsmoker; Nuc cell type: VEvenous; HLCA cell types: ['EC venous pulmonary', 'EC venous systemic', 'EC venous'] finished.\n",
      "Group: nonsmoker; Nuc cell type: FibroblastAdventitial; HLCA cell types: ['Adventitial fibroblasts'] finished.\n",
      "Group: nonsmoker; Nuc cell type: FibroblastAlveolar; HLCA cell types: ['Alveolar fibroblasts'] finished.\n",
      "Group: nonsmoker; Nuc cell type: Basal; HLCA cell types: ['Suprabasal', 'Basal', 'Basal resting'] finished.\n",
      "Group: nonsmoker; Nuc cell type: Goblet; HLCA cell types: ['Goblet'] finished.\n",
      "Group: nonsmoker; Nuc cell type: AlvMac; HLCA cell types: ['Alveolar macrophages'] finished.\n",
      "Group: nonsmoker; Nuc cell type: AT1; HLCA cell types: ['AT1'] finished.\n",
      "Group: nonsmoker; Nuc cell type: AT2; HLCA cell types: ['AT2'] finished.\n",
      "Group: nonsmoker; Nuc cell type: AT2transitional; HLCA cell types: ['Transitional AT2'] finished.\n",
      "Group: nonsmoker; Nuc cell type: cDC; HLCA cell types: ['Dendritic cells'] finished.\n",
      "Group: nonsmoker; Nuc cell type: Ciliated; HLCA cell types: ['Multiciliated lineage'] finished.\n",
      "Group: nonsmoker; Nuc cell type: cMonocyte; HLCA cell types: ['Classical monocytes'] finished.\n",
      "Group: nonsmoker; Nuc cell type: Mac; HLCA cell types: ['Macrophages'] finished.\n",
      "Group: nonsmoker; Nuc cell type: Macrophage.type2; HLCA cell types: ['Macrophages'] finished.\n",
      "Group: nonsmoker; Nuc cell type: Mast; HLCA cell types: ['Mast cells'] finished.\n",
      "Group: nonsmoker; Nuc cell type: Megakaryocyte; HLCA cell types: ['Megakaryocytes'] finished.\n",
      "Group: nonsmoker; Nuc cell type: ncMonocyte; HLCA cell types: ['Non-classical monocytes'] finished.\n",
      "Group: nonsmoker; Nuc cell type: NK; HLCA cell types: ['Innate lymphoid cell NK', 'NK cells'] finished.\n",
      "Group: nonsmoker; Nuc cell type: SMC; HLCA cell types: ['Smooth muscle'] finished.\n",
      "Group: nonsmoker; Nuc cell type: T; HLCA cell types: ['T cell lineage'] finished.\n",
      "Group: nonsmoker; Nuc cell type: Tcyto; HLCA cell types: ['CD8 T cells'] finished.\n",
      "Group: nonsmoker; Nuc cell type: Treg; HLCA cell types: ['CD4 T cells'] finished.\n",
      "Group: smoker; Nuc cell type: LymphEndo; HLCA cell types: ['Lymphatic EC', 'Lymphatic EC mature'] finished.\n",
      "Group: smoker; Nuc cell type: B.type1; HLCA cell types: ['B cells'] finished.\n",
      "Group: smoker; Nuc cell type: B.type2; HLCA cell types: ['B cells'] finished.\n",
      "Group: smoker; Nuc cell type: B.type3; HLCA cell types: ['B cells'] finished.\n",
      "Group: smoker; Nuc cell type: VEcapillary; HLCA cell types: ['EC capillary', 'EC aerocyte capillary', 'EC general capillary'] finished.\n",
      "Group: smoker; Nuc cell type: VEaerocyte; HLCA cell types: ['EC aerocyte capillary'] finished.\n",
      "Group: smoker; Nuc cell type: VEarterial; HLCA cell types: ['EC arterial'] finished.\n",
      "Group: smoker; Nuc cell type: VEvenous; HLCA cell types: ['EC venous pulmonary', 'EC venous systemic', 'EC venous'] finished.\n",
      "Group: smoker; Nuc cell type: FibroblastAdventitial; HLCA cell types: ['Adventitial fibroblasts'] finished.\n",
      "Group: smoker; Nuc cell type: FibroblastAlveolar; HLCA cell types: ['Alveolar fibroblasts'] finished.\n",
      "Group: smoker; Nuc cell type: Basal; HLCA cell types: ['Suprabasal', 'Basal', 'Basal resting'] finished.\n",
      "Group: smoker; Nuc cell type: Goblet; HLCA cell types: ['Goblet'] finished.\n",
      "Group: smoker; Nuc cell type: AlvMac; HLCA cell types: ['Alveolar macrophages'] finished.\n",
      "Group: smoker; Nuc cell type: AT1; HLCA cell types: ['AT1'] finished.\n",
      "Group: smoker; Nuc cell type: AT2; HLCA cell types: ['AT2'] finished.\n",
      "Group: smoker; Nuc cell type: AT2transitional; HLCA cell types: ['Transitional AT2'] finished.\n",
      "Group: smoker; Nuc cell type: cDC; HLCA cell types: ['Dendritic cells'] finished.\n",
      "Group: smoker; Nuc cell type: Ciliated; HLCA cell types: ['Multiciliated lineage'] finished.\n",
      "Group: smoker; Nuc cell type: cMonocyte; HLCA cell types: ['Classical monocytes'] finished.\n",
      "Group: smoker; Nuc cell type: Mac; HLCA cell types: ['Macrophages'] finished.\n",
      "Group: smoker; Nuc cell type: Macrophage.type2; HLCA cell types: ['Macrophages'] finished.\n",
      "Group: smoker; Nuc cell type: Mast; HLCA cell types: ['Mast cells'] finished.\n",
      "Group: smoker; Nuc cell type: Megakaryocyte; HLCA cell types: ['Megakaryocytes'] finished.\n",
      "Group: smoker; Nuc cell type: ncMonocyte; HLCA cell types: ['Non-classical monocytes'] finished.\n",
      "Group: smoker; Nuc cell type: NK; HLCA cell types: ['Innate lymphoid cell NK', 'NK cells'] finished.\n",
      "Group: smoker; Nuc cell type: SMC; HLCA cell types: ['Smooth muscle'] finished.\n",
      "Group: smoker; Nuc cell type: T; HLCA cell types: ['T cell lineage'] finished.\n",
      "Group: smoker; Nuc cell type: Tcyto; HLCA cell types: ['CD8 T cells'] finished.\n",
      "Group: smoker; Nuc cell type: Treg; HLCA cell types: ['CD4 T cells'] finished.\n"
     ]
    }
   ],
   "source": [
    "import warnings\n",
    "warnings.filterwarnings(\"ignore\")\n",
    "\n",
    "iterator = []\n",
    "n_rep = 5\n",
    "ct_column = \"cell.type2\"\n",
    "donor_column = 'Subject.ID'\n",
    "age_column = \"Age\"\n",
    "groups = [\"nonsmoker\",\"smoker\"]\n",
    "adatas = [nuc_nonsmoker,nuc_smoker]\n",
    "\n",
    "for adata,group in zip(adatas, groups):\n",
    "    for ct_nuc,cts_hlca in ct_mapping.items():\n",
    "               \n",
    "        # Get donor number\n",
    "        adata_ct = adata[adata.obs[ct_column] == ct_nuc,]\n",
    "        expr,ages = filter_anndata(adata_ct,\n",
    "                                 ct_column = ct_column,\n",
    "                                 cts = [ct_nuc],\n",
    "                                 donor_column = donor_column,\n",
    "                                 age_column = age_column,\n",
    "                                 marker_genes = adata.var_names,\n",
    "                                 min_cells = 20\n",
    "                                )\n",
    "\n",
    "        all_donor = expr.index.unique()\n",
    "        all_donor_num = all_donor.shape[0]\n",
    "        del(adata_ct)\n",
    "\n",
    "        if all_donor_num >= 10:\n",
    "            test_gene_types = [f\"all_{group}_baseline\"]\n",
    "            for gene_type in test_gene_types:\n",
    "                expr_sub = expr.loc[:,np.intersect1d(expr.columns,test_genes[gene_type])].copy()\n",
    "                for use_pca in [False]:\n",
    "                    for rep in range(1,n_rep+1):\n",
    "                        iterator.append([expr_sub,ages,group,cts_hlca,ct_nuc,gene_type,use_pca,rep,all_donor_num])\n",
    "            del(expr)\n",
    "        print(f\"Group: {group}; Nuc cell type: {ct_nuc}; HLCA cell types: {cts_hlca} finished.\")"
   ]
  },
  {
   "cell_type": "markdown",
   "metadata": {},
   "source": [
    "### Main analysis pipeline"
   ]
  },
  {
   "cell_type": "code",
   "execution_count": 9,
   "metadata": {},
   "outputs": [],
   "source": [
    "from sklearn.metrics import r2_score, mean_absolute_error\n",
    "from sklearn.pipeline import make_pipeline\n",
    "from sklearn.decomposition import PCA\n",
    "from sklearn.linear_model import ElasticNet,LinearRegression\n",
    "from sklearn.metrics import mean_absolute_error\n",
    "from sklearn.preprocessing import StandardScaler\n",
    "\n",
    "from functools import partial,reduce\n",
    "from hyperopt import hp, Trials, fmin, tpe\n",
    "from hyperopt import space_eval"
   ]
  },
  {
   "cell_type": "code",
   "execution_count": 10,
   "metadata": {},
   "outputs": [],
   "source": [
    "def compute_features(expr, ages, mean_degree, var_degree, n_components, use_pca, pca_model):\n",
    "\n",
    "    if use_pca and pca_model is None:\n",
    "        pca_model = PCA(n_components=n_components, whiten=True)\n",
    "        expr = pd.DataFrame(pca_model.fit_transform(expr), index = expr.index)\n",
    "        expr.columns = [f\"PC{i+1}\" for i in range(expr.shape[1])]\n",
    "    elif use_pca and pca_model is not None:\n",
    "        expr = pd.DataFrame(pca_model.transform(expr), index = expr.index)\n",
    "        expr.columns = [f\"PC{i+1}\" for i in range(expr.shape[1])]\n",
    "        \n",
    "    # Get each subject/individual's mean expression and polynomials of mean expressions.\n",
    "    subjects = expr.index.to_list()\n",
    "    expr_mean = expr.groupby(subjects).mean()\n",
    "    expr_mean_poly = np.hstack([expr_mean**i for i in range(1, mean_degree+1)])\n",
    "    feature_names = np.hstack([[f\"{col}_mean^{deg}\" for col in expr.columns] for deg in range(1,mean_degree+1)]) # Name the polynomial features\n",
    "    expr_mean_poly = pd.DataFrame(\n",
    "                        expr_mean_poly,\n",
    "                        index = expr_mean.index,\n",
    "                        columns = feature_names \n",
    "                    )\n",
    "    \n",
    "    if var_degree > 0:\n",
    "\n",
    "        # Get each subject/indivisual's variances.\n",
    "        expr_var = expr.groupby(subjects).var()\n",
    "        expr_var.fillna(value=0,inplace=True) # This should not happen \n",
    "        expr_var_poly = np.hstack([expr_var**i for i in range(1, var_degree+1)])\n",
    "        feature_names = np.hstack([[f\"{col}_var^{deg}\" for col in expr.columns] for deg in range(1,var_degree+1)]) # Name the polynomial features\n",
    "        expr_var_poly = pd.DataFrame(\n",
    "                        expr_var_poly,\n",
    "                        index = expr_var.index,\n",
    "                        columns = feature_names \n",
    "                    )\n",
    "\n",
    "        # Concatenate mean and var polynomial features\n",
    "        X = pd.concat([expr_mean_poly,expr_var_poly],axis = 1)\n",
    "    else:\n",
    "        X = expr_mean_poly\n",
    "    \n",
    "    # Get Y\n",
    "    Y = ages.groupby(subjects).mean()\n",
    "    \n",
    "    return X,Y,pca_model"
   ]
  },
  {
   "cell_type": "code",
   "execution_count": 11,
   "metadata": {},
   "outputs": [],
   "source": [
    "def train_test_loo(expr, ages, use_pca, param_space, n_hyper_eval, subject_type):\n",
    "    \n",
    "    subjects = expr.index.unique()\n",
    "    Y_trues = []\n",
    "    Y_preds = []\n",
    "    Y_trues_untrans = []\n",
    "    Y_preds_untrans = []\n",
    "    \n",
    "    # Leave-one-out test\n",
    "    for subj in subjects:\n",
    "        \n",
    "        test_subjects = [subj]\n",
    "        train_subjects = subjects[~subjects.isin(test_subjects)]\n",
    "        \n",
    "        X_train = expr.loc[expr.index.isin(train_subjects),]\n",
    "        Y_train = ages.loc[ages.index.isin(train_subjects),]\n",
    "        X_test = expr.loc[expr.index.isin(test_subjects),]\n",
    "        Y_test = ages.loc[ages.index.isin(test_subjects),]\n",
    "        \n",
    "        # Note that PCA trained on training data was used on test data.\n",
    "        X_train, Y_train, pca_model = compute_features(X_train, Y_train, mean_degree=1, var_degree=0, n_components=10, use_pca = use_pca, pca_model=None)\n",
    "        X_test, Y_test, _ = compute_features(X_test, Y_test, mean_degree=1, var_degree=0, n_components=10, use_pca=use_pca, pca_model = pca_model)\n",
    "        \n",
    "        scaler = StandardScaler().fit(X_train)\n",
    "        X_train = scaler.transform(X_train)\n",
    "        X_test = scaler.transform(X_test)\n",
    "        \n",
    "        # Center and scale Y\n",
    "        Y_train = Y_train.values\n",
    "        Y_test = Y_test.values\n",
    "        \n",
    "        scaler = StandardScaler().fit(Y_train.reshape(-1,1))\n",
    "        Y_train = scaler.transform(Y_train.reshape(-1,1)).ravel()\n",
    "        Y_test = scaler.transform(Y_test.reshape(-1,1)).ravel()\n",
    "        \n",
    "        # Use the best hyperparameters to fit a model on training data\n",
    "        model = LinearRegression()\n",
    "        model.fit(X_train, Y_train)\n",
    "        \n",
    "        # Get predicted ages for testing set\n",
    "        Y_trues.append(Y_test)\n",
    "        Y_preds.append(model.predict(X_test))\n",
    "        \n",
    "        #Y_trues_untrans = Y_trues\n",
    "        #Y_preds_untrans = Y_preds\n",
    "        Y_trues_untrans.append(Y_trues[-1][0]*np.sqrt(scaler.var_[0]) + scaler.mean_[0])\n",
    "        Y_preds_untrans.append(Y_preds[-1][0]*np.sqrt(scaler.var_[0]) + scaler.mean_[0])\n",
    "        \n",
    "    # Compute R2 and MAE as evaluation metrics\n",
    "    Y_trues = np.hstack(Y_trues)\n",
    "    Y_preds = np.hstack(Y_preds)\n",
    "    \n",
    "    r2 = r2_score(Y_trues, Y_preds)\n",
    "    MAE = mean_absolute_error(Y_trues, Y_preds)\n",
    "    \n",
    "    return r2,MAE,Y_trues_untrans,Y_preds_untrans"
   ]
  },
  {
   "cell_type": "markdown",
   "metadata": {},
   "source": [
    "### Main analysis pipeline"
   ]
  },
  {
   "cell_type": "code",
   "execution_count": 17,
   "metadata": {},
   "outputs": [
    {
     "name": "stderr",
     "output_type": "stream",
     "text": [
      "100%|██████████| 130/130 [07:31<00:00,  3.47s/it]\n"
     ]
    }
   ],
   "source": [
    "from joblib import delayed, Parallel\n",
    "import warnings\n",
    "\n",
    "def run_all(expr, ages, group, cts_hlca, ct_nuc, gene_type, use_pca, all_donor_num, n_hyper_eval = 30, rep = rep):\n",
    "    warnings.filterwarnings(\"ignore\")\n",
    "\n",
    "    # Define hyperparameter search space\n",
    "    param_space = {'n_components' : hp.choice('n_components', [10]),\n",
    "                 'mean_degree': hp.choice('mean_degree', [2]),\n",
    "                 'var_degree': hp.choice('var_degree', [2]), \n",
    "                 'alpha': hp.choice('alpha', [0.001, 0.01, 0.1, 1, 10, 100]), \n",
    "                 'l1_ratio': hp.uniform('l1_ratio', 0.1, 1.0)\n",
    "        }\n",
    "    \n",
    "    # Run leave-one-out test for current cell type\n",
    "    r2,MAE,true_age,pred_age = train_test_loo(expr, ages, use_pca, param_space, n_hyper_eval = n_hyper_eval, subject_type = group)\n",
    "    \n",
    "    true_age = \",\".join([str(age) for age in true_age])\n",
    "    pred_age = \",\".join([str(age) for age in pred_age])\n",
    "    \n",
    "    return group,\";\".join(cts_hlca),ct_nuc,gene_type,use_pca,r2,rep,all_donor_num,true_age,pred_age\n",
    "    #return group,cts_hlca,ct_nuc,gene_type,r2,rep,all_donor_num,true_age,pred_age\n",
    "\n",
    "res = Parallel(n_jobs = 10)(delayed(run_all)(\n",
    "                                          expr,\n",
    "                                          ages,\n",
    "                                          group,\n",
    "                                          cts_hlca,\n",
    "                                          ct_nuc,\n",
    "                                          gene_type,\n",
    "                                          use_pca,\n",
    "                                          all_donor_num,\n",
    "                                          n_hyper_eval = 30,\n",
    "                                          rep = rep) for expr,ages,group,cts_hlca,ct_nuc,gene_type,use_pca,rep,all_donor_num in tqdm(iterator))"
   ]
  },
  {
   "cell_type": "code",
   "execution_count": 18,
   "metadata": {},
   "outputs": [],
   "source": [
    "to_save = pd.DataFrame(res, columns = [\"Group\",\"Cell types(HLCA)\",\"Cell type(Nuc-seq)\",\"gene_type\",\"use_pca\",\"R2\",\"rep\",\"donor_num\",\"true_age\",\"pred_age\"])\n",
    "to_save.sort_values(by = \"R2\",ascending = False,inplace=True)"
   ]
  },
  {
   "cell_type": "markdown",
   "metadata": {},
   "source": [
    "save results"
   ]
  },
  {
   "cell_type": "code",
   "execution_count": 21,
   "metadata": {},
   "outputs": [],
   "source": [
    "if not os.path.isdir(\"results/eval\"):\n",
    "    os.mkdir(\"results/eval\")\n",
    "to_save.to_csv(\"results/eval/performances_nucseq_loo_baselineLR.csv\",index = None)"
   ]
  }
 ],
 "metadata": {
  "kernelspec": {
   "display_name": "lung_aging",
   "language": "python",
   "name": "lung_aging"
  },
  "language_info": {
   "codemirror_mode": {
    "name": "ipython",
    "version": 3
   },
   "file_extension": ".py",
   "mimetype": "text/x-python",
   "name": "python",
   "nbconvert_exporter": "python",
   "pygments_lexer": "ipython3",
   "version": "3.9.13"
  }
 },
 "nbformat": 4,
 "nbformat_minor": 4
}
