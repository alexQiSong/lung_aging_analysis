{
 "cells": [
  {
   "cell_type": "code",
   "execution_count": 4,
   "metadata": {},
   "outputs": [],
   "source": [
    "import scanpy as sc\n",
    "import pandas as pd\n",
    "import numpy as np\n",
    "import seaborn as sns\n",
    "import sklearn\n",
    "from tqdm import tqdm\n",
    "from functools import reduce"
   ]
  },
  {
   "cell_type": "markdown",
   "metadata": {},
   "source": [
    "Read HLCA data"
   ]
  },
  {
   "cell_type": "code",
   "execution_count": 5,
   "metadata": {},
   "outputs": [
    {
     "name": "stderr",
     "output_type": "stream",
     "text": [
      "/jet/home/qsong/.conda/envs/lung_aging/lib/python3.9/site-packages/anndata/_core/anndata.py:121: ImplicitModificationWarning: Transforming to str index.\n",
      "  warnings.warn(\"Transforming to str index.\", ImplicitModificationWarning)\n",
      "/jet/home/qsong/.conda/envs/lung_aging/lib/python3.9/site-packages/anndata/_core/anndata.py:121: ImplicitModificationWarning: Transforming to str index.\n",
      "  warnings.warn(\"Transforming to str index.\", ImplicitModificationWarning)\n"
     ]
    }
   ],
   "source": [
    "hlca_smoker = sc.read_h5ad(\"data/step1_HLCA_smoker_processed.h5ad\")\n",
    "hlca_nonsmoker = sc.read_h5ad(\"data/step1_HLCA_nonsmoker_processed.h5ad\")"
   ]
  },
  {
   "cell_type": "markdown",
   "metadata": {},
   "source": [
    "Keep only these columns"
   ]
  },
  {
   "cell_type": "code",
   "execution_count": 6,
   "metadata": {},
   "outputs": [],
   "source": [
    "hlca_smoker.obs = hlca_smoker.obs.loc[:,['donor_id',\n",
    "                                       'age',\n",
    "                                       'ann_level_1',\n",
    "                                       'ann_level_2',\n",
    "                                       'ann_level_3',\n",
    "                                       'ann_level_4',\n",
    "                                       'ann_level_5']\n",
    "                                     ]\n",
    "hlca_nonsmoker.obs = hlca_nonsmoker.obs.loc[:,['donor_id',\n",
    "                                       'age',\n",
    "                                       'ann_level_1',\n",
    "                                       'ann_level_2',\n",
    "                                       'ann_level_3',\n",
    "                                       'ann_level_4',\n",
    "                                       'ann_level_5']\n",
    "                                     ]"
   ]
  },
  {
   "cell_type": "markdown",
   "metadata": {},
   "source": [
    "Define different types of gene sets used as input features"
   ]
  },
  {
   "cell_type": "code",
   "execution_count": 7,
   "metadata": {},
   "outputs": [],
   "source": [
    "test_genes = {\"fridman\":[\"ALDH1A3\", \"AOPEP\", \"CCND1\", \"CD44\", \"CDKN1A\", \"CDKN1C\", \"CDKN2A\", \"CDKN2B\", \"CDKN2D\", \"CITED2\",\n",
    "                                \"CLTB\", \"COL1A2\",\"CREG1\",\"CRYAB\",\"CCN2\",\"CXCL14\",\"CYP1B1\",\"EIF2S2\",\"ESM1\",\"F3\",\"FILIP1L\",\"FN1\",\"GSN\",\"GUK1\",\"HBS1L\",\n",
    "                                \"HPS5\",\"HSPA2\",\"HTATIP2\",\"IFI16\",\"IFNG\",\"IGFBP1\",\"IGFBP2\",\"IGFBP3\",\"IGFBP4\",\"IGFBP5\",\"IGFBP6\",\"IGFBP7\",\"IGSF3\",\n",
    "                                \"ING1\",\"IRF5\",\"IRF7\",\"ISG15\",\"MAP1LC3B\",\"MAP2K3\",\"MDM2\",\"MMP1\",\"NDN\",\"NME2\",\"NRG1\",\"OPTN\",\"PEA15\",\"RAB13\",\"RAB31\",\n",
    "                                \"RAB5B\",\"RABGGTA\",\"RAC1\",\"RBL2\",\"RGL2\",\"RHOB\",\"RRAS\",\"S100A11\",\"SERPINB2\",\"SERPINE1\",\"SMPD1\",\"SMURF2\",\"SOD1\",\"SPARC\",\n",
    "                                \"STAT1\",\"TES\",\"TFAP2A\",\"TGFB1I1\",\"THBS1\",\"TNFAIP2\",\"TNFAIP3\",\"TP53\",\"TSPYL5\",\"VIM\",\"ALDH1A1\",\"BMI1\",\"CCNB1\",\"CDC25B\",\n",
    "                                \"CKS1BP7\",\"COL3A1\",\"E2F4\",\"EGR1\",\"ID1\",\"LAMA1\",\"LDB2\",\"MARCKS\",\"CCN4\"],\n",
    "              \"sasp2\":[\"VEGFA\", \"TNFRSF12A\", \"TNFRSF10C\", \"TNFRSF10B\", \"TIMP2\", \"TIMP1\", \"TGFB1\", \"SERPINE1\", \"TNFRSF1A\",\n",
    "                                    \"PLAUR\", \"PLAU\", \"MMP14\", \"MMP13\", \"MMP7\", \"MMP3\", \"MIF\", \"LMNA\", \"KITLG\", \"IL32\", \"IGFBP7\", \"IGFBP2\",\n",
    "                                     \"ICAM1\", \"FAS\", \"EREG\", \"CXCL17\", \"CXCL16\", \"CXCL8\", \"CXCL1\", \"CTSB\", \"CLU\", \"CCL20\", \"CCL2\", \"BTC\",\n",
    "                                     \"AREG\"\n",
    "                                  ],\n",
    "              \"senmayo\":pd.read_excel(\"data/senescence_list.xlsx\",sheet_name=\"SenMayo\")[\"symbol\"].tolist(),\n",
    "              \"cellage\":pd.read_excel(\"data/senescence_list.xlsx\",sheet_name=\"CellAge Senescence Genes\")[\"Symbol\"].tolist()\n",
    "                }\n",
    "\n",
    "test_genes[\"union\"] = reduce(np.union1d, [test_genes[\"fridman\"],\n",
    "                    test_genes[\"sasp2\"],\n",
    "                    test_genes[\"senmayo\"],\n",
    "                    test_genes[\"cellage\"]]\n",
    "      )\n",
    "test_genes[\"all_smoker\"] = hlca_smoker.var_names.tolist()\n",
    "test_genes[\"all_nonsmoker\"] = hlca_nonsmoker.var_names.tolist()"
   ]
  },
  {
   "cell_type": "markdown",
   "metadata": {},
   "source": [
    "## Modeling"
   ]
  },
  {
   "cell_type": "code",
   "execution_count": 8,
   "metadata": {},
   "outputs": [],
   "source": [
    "from sklearn.metrics import r2_score, mean_absolute_error\n",
    "from sklearn.pipeline import make_pipeline\n",
    "from sklearn.decomposition import PCA\n",
    "from sklearn.linear_model import ElasticNet\n",
    "from sklearn.metrics import mean_absolute_error\n",
    "from sklearn.preprocessing import StandardScaler\n",
    "\n",
    "from functools import partial,reduce\n",
    "from hyperopt import hp, Trials, fmin, tpe\n",
    "from hyperopt import space_eval"
   ]
  },
  {
   "cell_type": "markdown",
   "metadata": {},
   "source": [
    "Data filtering by Number of Cells"
   ]
  },
  {
   "cell_type": "code",
   "execution_count": 9,
   "metadata": {},
   "outputs": [],
   "source": [
    "'''\n",
    "Filter anndata by cell type, marker genes, and subjects. Subjects are selected by min_cells\n",
    "Return filtered expression matrix and ages.\n",
    "'''\n",
    "def filter_anndata_single_ct(anndata, ct_column, ct, donor_column, age_column, marker_genes = None, min_cells = 20):\n",
    "        \n",
    "    # Keep rows annotated with current cell type, and columns annotated with marker genes,  \n",
    "    ct_anndata = anndata[anndata.obs[ct_column] == ct, :]\n",
    "    ct_anndata = ct_anndata[:, ct_anndata.var_names.isin(marker_genes)]\n",
    "    \n",
    "    # Select subjects having number of cells greater than min_cells \n",
    "    subjects = ct_anndata.obs[donor_column]\n",
    "    subjects_count = subjects.groupby(subjects.values).count()\n",
    "    selected_subjects = subjects_count.loc[subjects_count >= min_cells].index \n",
    "    \n",
    "    # Further subset anndata using the selected subjects\n",
    "    ct_anndata = ct_anndata[ct_anndata.obs[donor_column].isin(selected_subjects),]\n",
    "    \n",
    "    # Generate filtered expression matrix and ages\n",
    "    expr = ct_anndata.to_df()\n",
    "    expr.index = ct_anndata.obs[donor_column].values\n",
    "    ages = ct_anndata.obs[age_column]\n",
    "    ages.index = expr.index\n",
    "        \n",
    "    return expr, ages"
   ]
  },
  {
   "cell_type": "code",
   "execution_count": 10,
   "metadata": {},
   "outputs": [],
   "source": [
    "def compute_features(expr, ages, mean_degree, var_degree, n_components, use_pca, pca_model):\n",
    "\n",
    "    if use_pca and pca_model is None:\n",
    "        pca_model = PCA(n_components=n_components, whiten=True)\n",
    "        expr = pd.DataFrame(pca_model.fit_transform(expr), index = expr.index)\n",
    "        expr.columns = [f\"PC{i+1}\" for i in range(expr.shape[1])]\n",
    "    elif use_pca and pca_model is not None:\n",
    "        expr = pd.DataFrame(pca_model.transform(expr), index = expr.index)\n",
    "        expr.columns = [f\"PC{i+1}\" for i in range(expr.shape[1])]\n",
    "        \n",
    "    # Get each subject/individual's mean expression and polynomials of mean expressions.\n",
    "    subjects = expr.index.to_list()\n",
    "    expr_mean = expr.groupby(subjects).mean()\n",
    "    expr_mean_poly = np.hstack([expr_mean**i for i in range(1, mean_degree+1)])\n",
    "    feature_names = np.hstack([[f\"{col}_mean^{deg}\" for col in expr.columns] for deg in range(1,mean_degree+1)]) # Name the polynomial features\n",
    "    expr_mean_poly = pd.DataFrame(\n",
    "                        expr_mean_poly,\n",
    "                        index = expr_mean.index,\n",
    "                        columns = feature_names \n",
    "                    )\n",
    "    \n",
    "    if var_degree > 0:\n",
    "\n",
    "        # Get each subject/indivisual's variances.\n",
    "        expr_var = expr.groupby(subjects).var()\n",
    "        expr_var.fillna(value=0,inplace=True) # This should not happen \n",
    "        expr_var_poly = np.hstack([expr_var**i for i in range(1, var_degree+1)])\n",
    "        feature_names = np.hstack([[f\"{col}_var^{deg}\" for col in expr.columns] for deg in range(1,var_degree+1)]) # Name the polynomial features\n",
    "        expr_var_poly = pd.DataFrame(\n",
    "                        expr_var_poly,\n",
    "                        index = expr_var.index,\n",
    "                        columns = feature_names \n",
    "                    )\n",
    "\n",
    "        # Concatenate mean and var polynomial features\n",
    "        X = pd.concat([expr_mean_poly,expr_var_poly],axis = 1)\n",
    "    else:\n",
    "        X = expr_mean_poly\n",
    "    \n",
    "    # Get Y\n",
    "    Y = ages.groupby(subjects).mean()\n",
    "    \n",
    "    return X,Y,pca_model"
   ]
  },
  {
   "cell_type": "markdown",
   "metadata": {},
   "source": [
    "Generate data for feature extraction and training/testing"
   ]
  },
  {
   "cell_type": "code",
   "execution_count": 11,
   "metadata": {},
   "outputs": [],
   "source": [
    "import warnings\n",
    "warnings.filterwarnings(\"ignore\")\n",
    "\n",
    "iterator = []\n",
    "n_rep = 5\n",
    "donor_types = [\"nonsmoker\",\"smoker\"]\n",
    "adatas = [hlca_nonsmoker,hlca_smoker]\n",
    "\n",
    "for annLevel in ['ann_level_2','ann_level_3','ann_level_4','ann_level_5']:\n",
    "    c1 = hlca_nonsmoker.obs[annLevel]\n",
    "    c2 = hlca_smoker.obs[annLevel]\n",
    "    cell_types = np.union1d(c1,c2)\n",
    "    selected_cell_types = []\n",
    "    \n",
    "    for adata,group in zip(adatas,donor_types):\n",
    "        for ct in cell_types:\n",
    "            \n",
    "            # Get donor number\n",
    "            adata_ct = adata[adata.obs[annLevel] == ct,]\n",
    "            expr,ages = filter_anndata_single_ct(adata_ct,\n",
    "                                     ct_column = annLevel,\n",
    "                                     ct = ct,\n",
    "                                     donor_column = \"donor_id\",\n",
    "                                     age_column = \"age\",\n",
    "                                     marker_genes = adata.var_names,\n",
    "                                     min_cells = 20\n",
    "                                    )\n",
    "            all_donor = expr.index.unique()\n",
    "            all_donor_num = all_donor.shape[0]\n",
    "            \n",
    "            del(adata_ct)\n",
    "            if all_donor_num >= 10 and ct != \"None\":\n",
    "                selected_cell_types.append(ct)\n",
    "                test_gene_types = [\"fridman\",\n",
    "                                   \"sasp2\",\n",
    "                                   \"senmayo\",\n",
    "                                   \"cellage\",\n",
    "                                   \"union\",\n",
    "                                   f\"all_{group}\"\n",
    "                                  ]\n",
    "                for gene_type in test_gene_types:\n",
    "                    expr_sub = expr.loc[:,np.intersect1d(expr.columns,test_genes[gene_type])].copy()\n",
    "                    for use_pca in [True,False]:\n",
    "                        for rep in range(1,n_rep+1):\n",
    "                            iterator.append([expr_sub,ages,group,ct,annLevel,gene_type,use_pca,rep,all_donor_num])\n",
    "                del(expr)"
   ]
  },
  {
   "cell_type": "markdown",
   "metadata": {},
   "source": [
    "Train and test models"
   ]
  },
  {
   "cell_type": "code",
   "execution_count": 12,
   "metadata": {},
   "outputs": [],
   "source": [
    "def tune(param, expr, ages, subject_type, ct):\n",
    "    \n",
    "    '''\n",
    "    # Get Hyperparameters\n",
    "    '''\n",
    "    n_components = param['n_components']\n",
    "    mean_degree = param['mean_degree']\n",
    "    var_degree = param['var_degree']\n",
    "    alpha = param['alpha']\n",
    "    l1_ratio = param['l1_ratio']\n",
    "    \n",
    "    X_train = expr.copy()\n",
    "    Y_train = ages.copy()\n",
    "    \n",
    "    scaler = StandardScaler().fit(X_train)\n",
    "    X_train = scaler.transform(X_train)\n",
    "        \n",
    "    # Center and scale Y.\n",
    "    Y_train = Y_train.values\n",
    "    Y_train = StandardScaler().fit_transform(Y_train.reshape(-1,1)).ravel()\n",
    "    \n",
    "    # Model fitting\n",
    "    polyreg = make_pipeline(ElasticNet(max_iter=40000, alpha=alpha, l1_ratio=l1_ratio))\n",
    "    polyreg.fit(X_train, Y_train)\n",
    "        \n",
    "    # Get predicted age for training data\n",
    "    pred = polyreg.predict(X_train)\n",
    "    \n",
    "    # Return negative R2 as loss\n",
    "    return(-r2_score(Y_train, pred))"
   ]
  },
  {
   "cell_type": "code",
   "execution_count": 13,
   "metadata": {},
   "outputs": [],
   "source": [
    "def train_test_loo(expr, ages, use_pca, param_space, n_hyper_eval, subject_type, ct):\n",
    "    \n",
    "    subjects = expr.index.unique()\n",
    "    Y_trues = []\n",
    "    Y_preds = []\n",
    "    Y_trues_untrans = []\n",
    "    Y_preds_untrans = []\n",
    "    \n",
    "    # Leave-one-out test\n",
    "    for subj in subjects:\n",
    "        \n",
    "        test_subjects = [subj]\n",
    "        train_subjects = subjects[~subjects.isin(test_subjects)]\n",
    "        \n",
    "        X_train = expr.loc[expr.index.isin(train_subjects),]\n",
    "        Y_train = ages.loc[ages.index.isin(train_subjects),]\n",
    "        X_test = expr.loc[expr.index.isin(test_subjects),]\n",
    "        Y_test = ages.loc[ages.index.isin(test_subjects),]\n",
    "        \n",
    "        # Note that PCA trained on training data was used on test data.\n",
    "        X_train, Y_train, pca_model = compute_features(X_train, Y_train, mean_degree=2, var_degree=2, n_components=10, use_pca = use_pca, pca_model=None)\n",
    "        X_test, Y_test, _ = compute_features(X_test, Y_test, mean_degree=2, var_degree=2, n_components=10, use_pca=use_pca, pca_model = pca_model)\n",
    "        \n",
    "        # Partial will freeze some arguments for tune()\n",
    "        fmin_objective = partial(\n",
    "                                tune,\n",
    "                                expr=X_train,\n",
    "                                ages=Y_train,\n",
    "                                subject_type = subject_type,\n",
    "                                ct = ct\n",
    "                            )\n",
    "        \n",
    "        # Search for the best hyperparameters on training data\n",
    "        param_best = fmin(fmin_objective,\n",
    "                            space = param_space,\n",
    "                            algo=tpe.suggest,\n",
    "                            max_evals=n_hyper_eval,\n",
    "                            verbose = False\n",
    "                         )\n",
    "        param_best = space_eval(param_space, param_best)\n",
    "        \n",
    "        scaler = StandardScaler().fit(X_train)\n",
    "        X_train = scaler.transform(X_train)\n",
    "        X_test = scaler.transform(X_test)\n",
    "        \n",
    "        # Center and scale Y\n",
    "        Y_train = Y_train.values\n",
    "        Y_test = Y_test.values\n",
    "        \n",
    "        scaler = StandardScaler().fit(Y_train.reshape(-1,1))\n",
    "        Y_train = scaler.transform(Y_train.reshape(-1,1)).ravel()\n",
    "        Y_test = scaler.transform(Y_test.reshape(-1,1)).ravel()\n",
    "        \n",
    "        # Use the best hyperparameters to fit a model on training data\n",
    "        polyreg = make_pipeline(ElasticNet(max_iter=40000, alpha=param_best['alpha'], l1_ratio=param_best['l1_ratio']))\n",
    "        polyreg.fit(X_train, Y_train)\n",
    "        \n",
    "        # Get predicted ages for testing set\n",
    "        Y_trues.append(Y_test)\n",
    "        Y_preds.append(polyreg.predict(X_test))\n",
    "        \n",
    "        Y_trues_untrans.append(Y_trues[-1]*np.sqrt(scaler.var_[0]) + scaler.mean_[0])\n",
    "        Y_preds_untrans.append(Y_preds[-1]*np.sqrt(scaler.var_[0]) + scaler.mean_[0])\n",
    "        \n",
    "    # Compute R2 and MAE as evaluation metrics\n",
    "    Y_trues = np.hstack(Y_trues)\n",
    "    Y_preds = np.hstack(Y_preds)\n",
    "    \n",
    "    r2 = r2_score(Y_trues, Y_preds)\n",
    "    MAE = mean_absolute_error(Y_trues, Y_preds)\n",
    "    \n",
    "    return r2,MAE,Y_trues_untrans,Y_preds_untrans"
   ]
  },
  {
   "cell_type": "markdown",
   "metadata": {},
   "source": [
    "### Main analysis pipeline"
   ]
  },
  {
   "cell_type": "markdown",
   "metadata": {},
   "source": [
    "Adjust n_jobs based on number of cores and memory available in your machine"
   ]
  },
  {
   "cell_type": "code",
   "execution_count": 15,
   "metadata": {},
   "outputs": [
    {
     "name": "stderr",
     "output_type": "stream",
     "text": [
      "100%|██████████| 5400/5400 [33:28:14<00:00, 22.31s/it]   \n"
     ]
    }
   ],
   "source": [
    "from joblib import delayed, Parallel\n",
    "import warnings\n",
    "\n",
    "def run_all(expr, ages, group, ct, ct_column, gene_type, use_pca, all_donor_num, n_hyper_eval, rep):\n",
    "    warnings.filterwarnings(\"ignore\")\n",
    "\n",
    "    # Define hyperparameter search space\n",
    "    param_space = {'n_components' : hp.choice('n_components', [10]),\n",
    "                 'mean_degree': hp.choice('mean_degree', [2]),\n",
    "                 'var_degree': hp.choice('var_degree', [2]), \n",
    "                 'alpha': hp.choice('alpha', [0.001, 0.01, 0.1, 1, 10, 100]), \n",
    "                 'l1_ratio': hp.uniform('l1_ratio', 0.1, 1.0)\n",
    "        }\n",
    "    \n",
    "    # Run leave-one-out test for current cell type\n",
    "    r2,MAE,Y_trues,Y_preds = train_test_loo(expr, ages, use_pca, param_space, n_hyper_eval = n_hyper_eval, subject_type = group, ct = ct)\n",
    "    \n",
    "    Y_trues = \",\".join([str(age) for age in Y_trues])\n",
    "    Y_preds = \",\".join([str(age) for age in Y_preds])\n",
    "    \n",
    "    return ct_column,group,ct,gene_type,use_pca,r2,rep,all_donor_num,Y_trues,Y_preds\n",
    "\n",
    "res = Parallel(n_jobs = 100)(delayed(run_all)(\n",
    "                                          expr,\n",
    "                                          ages,\n",
    "                                          group,\n",
    "                                          ct,\n",
    "                                          ct_column,\n",
    "                                          gene_type,\n",
    "                                          use_pca,\n",
    "                                          all_donor_num,\n",
    "                                          n_hyper_eval = 30,\n",
    "                                          rep = rep) for expr,ages,group,ct,ct_column,gene_type,use_pca,rep,all_donor_num in tqdm(iterator))"
   ]
  },
  {
   "cell_type": "markdown",
   "metadata": {},
   "source": [
    "Save results"
   ]
  },
  {
   "cell_type": "code",
   "execution_count": 57,
   "metadata": {},
   "outputs": [],
   "source": [
    "to_save = pd.DataFrame(res, columns = [\"ann_level\",\"group\",\"cell_type\",\"gene_type\",\"use_pca\",\"R2\",\"rep\",\"all_donor_num\",\"true_age\",\"pred_age\"])\n",
    "to_save.replace(to_replace=\"common_smoker\", value=\"all\",inplace=True)\n",
    "to_save.replace(to_replace=\"common_nonsmoker\", value=\"all\",inplace=True)"
   ]
  },
  {
   "cell_type": "markdown",
   "metadata": {},
   "source": [
    "remove \"[\" and \"]\""
   ]
  },
  {
   "cell_type": "code",
   "execution_count": 58,
   "metadata": {},
   "outputs": [],
   "source": [
    "for idx,row in to_save.iterrows():\n",
    "    row[\"true_age\"] = re.sub(\"\\[\",\"\",row[\"true_age\"])\n",
    "    row[\"true_age\"] = re.sub(\"\\]\",\"\",row[\"true_age\"])\n",
    "    row[\"pred_age\"] = re.sub(\"\\[\",\"\",row[\"pred_age\"])\n",
    "    row[\"pred_age\"] = re.sub(\"\\]\",\"\",row[\"pred_age\"])\n",
    "    to_save.iloc[idx,:] = row"
   ]
  },
  {
   "cell_type": "code",
   "execution_count": 59,
   "metadata": {},
   "outputs": [],
   "source": [
    "dfs = []\n",
    "for grp,df in to_save.groupby([\"ann_level\",\"group\",\"cell_type\",\"gene_type\",\"use_pca\"]):\n",
    "    df[\"R2_mean\"] = df[\"R2\"].mean()\n",
    "    df[\"R2_std\"] = df[\"R2\"].std()\n",
    "    del(df[\"R2\"])\n",
    "    del(df[\"rep\"])\n",
    "    dfs.append(df.drop_duplicates())\n",
    "dfs = pd.concat(dfs)\n",
    "\n",
    "to_save = to_save.sort_values(by = \"R2\", ascending = False)\n",
    "\n",
    "if not os.path.isdir(\"results/eval\"):\n",
    "    os.mkdir(\"results/eval\")    \n",
    "to_save.to_csv(\"results/eval/performances_HLCA_loo_polyEN.csv\",index = None)"
   ]
  }
 ],
 "metadata": {
  "kernelspec": {
   "display_name": "lung_aging",
   "language": "python",
   "name": "lung_aging"
  },
  "language_info": {
   "codemirror_mode": {
    "name": "ipython",
    "version": 3
   },
   "file_extension": ".py",
   "mimetype": "text/x-python",
   "name": "python",
   "nbconvert_exporter": "python",
   "pygments_lexer": "ipython3",
   "version": "3.9.13"
  }
 },
 "nbformat": 4,
 "nbformat_minor": 4
}
