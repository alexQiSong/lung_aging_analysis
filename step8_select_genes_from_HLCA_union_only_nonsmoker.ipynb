{
 "cells": [
  {
   "cell_type": "markdown",
   "metadata": {},
   "source": [
    "This script performs gene ranking (with SHAP) and gene selection (by p-values from random permutation) with union of senescence markers"
   ]
  },
  {
   "cell_type": "code",
   "execution_count": 3,
   "metadata": {},
   "outputs": [],
   "source": [
    "import scanpy as sc\n",
    "import pandas as pd\n",
    "import numpy as np\n",
    "import seaborn as sns\n",
    "import sklearn\n",
    "from functools import reduce\n",
    "from tqdm import tqdm"
   ]
  },
  {
   "cell_type": "markdown",
   "metadata": {},
   "source": [
    "Read test results"
   ]
  },
  {
   "cell_type": "code",
   "execution_count": 4,
   "metadata": {},
   "outputs": [],
   "source": [
    "table = pd.read_csv(\"results/eval/performances_HLCA_loo_polyEN.csv\")"
   ]
  },
  {
   "cell_type": "code",
   "execution_count": 5,
   "metadata": {},
   "outputs": [],
   "source": [
    "smoker_table = table.loc[table[\"group\"] == \"smoker\",]\n",
    "nonsmoker_table = table.loc[table[\"group\"] == \"nonsmoker\",]"
   ]
  },
  {
   "cell_type": "markdown",
   "metadata": {},
   "source": [
    "Sort cell types"
   ]
  },
  {
   "cell_type": "code",
   "execution_count": 6,
   "metadata": {},
   "outputs": [],
   "source": [
    "dfs = []\n",
    "n_rep = 5\n",
    "for i,((annLevel,ct),df) in enumerate(nonsmoker_table.groupby([\"ann_level\",\"cell_type\"])):\n",
    "    ct_df = []\n",
    "    for (gene_type,use_pca),dff in df.groupby([\"gene_type\",\"use_pca\"]):\n",
    "        dff[\"R2_mean\"] = dff[\"R2\"].mean()\n",
    "        ct_df.append(dff)\n",
    "    ct_df = pd.concat(ct_df)    \n",
    "    ct_df.sort_values(by = \"R2_mean\",ascending = False,inplace=True)\n",
    "    ct_df = ct_df.iloc[0:n_rep,] # pick the best one for each cell type\n",
    "    ct_df[\"ind\"] = str(i)\n",
    "    dfs.append(ct_df)\n",
    "\n",
    "nonsmoker_table = pd.concat(dfs).sort_values(by = \"R2_mean\", ascending = False)\n",
    "\n",
    "smoker_table = table.loc[table['group'] == \"smoker\",]\n",
    "dfs = []\n",
    "for i,((annLevel,ct),df) in enumerate(smoker_table.groupby([\"ann_level\",\"cell_type\"])):\n",
    "    ct_df = []\n",
    "    for (gene_type,use_pca),dff in df.groupby([\"gene_type\",\"use_pca\"]):\n",
    "        dff[\"R2_mean\"] = dff[\"R2\"].mean()\n",
    "        ct_df.append(dff)\n",
    "    ct_df = pd.concat(ct_df)    \n",
    "    ct_df.sort_values(by = \"R2_mean\",ascending = False,inplace=True)\n",
    "    ct_df = ct_df.iloc[0:n_rep,] # pick the best one for each cell type\n",
    "    ct_df[\"ind\"] = str(i)\n",
    "    dfs.append(ct_df)\n",
    "    \n",
    "smoker_table = pd.concat(dfs).sort_values(by = \"R2_mean\", ascending = False)"
   ]
  },
  {
   "cell_type": "code",
   "execution_count": 7,
   "metadata": {},
   "outputs": [],
   "source": [
    "del(smoker_table[\"R2\"],\n",
    "    smoker_table[\"rep\"],\n",
    "    smoker_table[\"true_age\"],\n",
    "    smoker_table[\"pred_age\"],\n",
    "    nonsmoker_table[\"R2\"],\n",
    "    nonsmoker_table[\"rep\"],\n",
    "    nonsmoker_table[\"true_age\"],\n",
    "    nonsmoker_table[\"pred_age\"]\n",
    "   )\n",
    "smoker_table.drop_duplicates(inplace=True)\n",
    "nonsmoker_table.drop_duplicates(inplace=True)\n",
    "smoker_table.sort_values(by = \"R2_mean\",ascending = False,inplace = True)\n",
    "nonsmoker_table.sort_values(by = \"R2_mean\",ascending = False,inplace = True)"
   ]
  },
  {
   "cell_type": "markdown",
   "metadata": {},
   "source": [
    "Read data objects"
   ]
  },
  {
   "cell_type": "code",
   "execution_count": 8,
   "metadata": {},
   "outputs": [
    {
     "name": "stderr",
     "output_type": "stream",
     "text": [
      "/jet/home/qsong/.conda/envs/lung_aging/lib/python3.9/site-packages/anndata/_core/anndata.py:121: ImplicitModificationWarning: Transforming to str index.\n",
      "  warnings.warn(\"Transforming to str index.\", ImplicitModificationWarning)\n",
      "/jet/home/qsong/.conda/envs/lung_aging/lib/python3.9/site-packages/anndata/_core/anndata.py:121: ImplicitModificationWarning: Transforming to str index.\n",
      "  warnings.warn(\"Transforming to str index.\", ImplicitModificationWarning)\n"
     ]
    }
   ],
   "source": [
    "hlca_smoker = sc.read_h5ad(\"data/step1_HLCA_smoker_processed.h5ad\")\n",
    "hlca_nonsmoker = sc.read_h5ad(\"data/step1_HLCA_nonsmoker_processed.h5ad\")"
   ]
  },
  {
   "cell_type": "markdown",
   "metadata": {},
   "source": [
    "Get highly variable genes and all types of marker genes"
   ]
  },
  {
   "cell_type": "code",
   "execution_count": 9,
   "metadata": {},
   "outputs": [],
   "source": [
    "test_genes = {\"fridman\":[\"ALDH1A3\", \"AOPEP\", \"CCND1\", \"CD44\", \"CDKN1A\", \"CDKN1C\", \"CDKN2A\", \"CDKN2B\", \"CDKN2D\", \"CITED2\",\n",
    "                                \"CLTB\", \"COL1A2\",\"CREG1\",\"CRYAB\",\"CCN2\",\"CXCL14\",\"CYP1B1\",\"EIF2S2\",\"ESM1\",\"F3\",\"FILIP1L\",\"FN1\",\"GSN\",\"GUK1\",\"HBS1L\",\n",
    "                                \"HPS5\",\"HSPA2\",\"HTATIP2\",\"IFI16\",\"IFNG\",\"IGFBP1\",\"IGFBP2\",\"IGFBP3\",\"IGFBP4\",\"IGFBP5\",\"IGFBP6\",\"IGFBP7\",\"IGSF3\",\n",
    "                                \"ING1\",\"IRF5\",\"IRF7\",\"ISG15\",\"MAP1LC3B\",\"MAP2K3\",\"MDM2\",\"MMP1\",\"NDN\",\"NME2\",\"NRG1\",\"OPTN\",\"PEA15\",\"RAB13\",\"RAB31\",\n",
    "                                \"RAB5B\",\"RABGGTA\",\"RAC1\",\"RBL2\",\"RGL2\",\"RHOB\",\"RRAS\",\"S100A11\",\"SERPINB2\",\"SERPINE1\",\"SMPD1\",\"SMURF2\",\"SOD1\",\"SPARC\",\n",
    "                                \"STAT1\",\"TES\",\"TFAP2A\",\"TGFB1I1\",\"THBS1\",\"TNFAIP2\",\"TNFAIP3\",\"TP53\",\"TSPYL5\",\"VIM\",\"ALDH1A1\",\"BMI1\",\"CCNB1\",\"CDC25B\",\n",
    "                                \"CKS1BP7\",\"COL3A1\",\"E2F4\",\"EGR1\",\"ID1\",\"LAMA1\",\"LDB2\",\"MARCKS\",\"CCN4\"],\n",
    "              \"sasp2\":[\"VEGFA\", \"TNFRSF12A\", \"TNFRSF10C\", \"TNFRSF10B\", \"TIMP2\", \"TIMP1\", \"TGFB1\", \"SERPINE1\", \"TNFRSF1A\",\n",
    "                                    \"PLAUR\", \"PLAU\", \"MMP14\", \"MMP13\", \"MMP7\", \"MMP3\", \"MIF\", \"LMNA\", \"KITLG\", \"IL32\", \"IGFBP7\", \"IGFBP2\",\n",
    "                                     \"ICAM1\", \"FAS\", \"EREG\", \"CXCL17\", \"CXCL16\", \"CXCL8\", \"CXCL1\", \"CTSB\", \"CLU\", \"CCL20\", \"CCL2\", \"BTC\",\n",
    "                                     \"AREG\"\n",
    "                                  ],\n",
    "              \"senmayo\":pd.read_excel(\"data/senescence_list.xlsx\",sheet_name=\"SenMayo\")[\"symbol\"].tolist(),\n",
    "              \"cellage\":pd.read_excel(\"data/senescence_list.xlsx\",sheet_name=\"CellAge Senescence Genes\")[\"Symbol\"].tolist()\n",
    "                }\n",
    "\n",
    "test_genes[\"union\"] = reduce(np.union1d, [test_genes[\"fridman\"],\n",
    "                    test_genes[\"sasp2\"],\n",
    "                    test_genes[\"senmayo\"],\n",
    "                    test_genes[\"cellage\"]]\n",
    "      )\n",
    "test_genes[\"all_smoker\"] = hlca_smoker.var_names.tolist()\n",
    "test_genes[\"all_nonsmoker\"] = hlca_nonsmoker.var_names.tolist()"
   ]
  },
  {
   "cell_type": "markdown",
   "metadata": {},
   "source": [
    "Extract data"
   ]
  },
  {
   "cell_type": "code",
   "execution_count": 10,
   "metadata": {},
   "outputs": [],
   "source": [
    "'''\n",
    "Filter anndata by cell type, marker genes, and subjects. Subjects are selected by min_cells\n",
    "Return filtered expression matrix and ages.\n",
    "'''\n",
    "def filter_anndata_single_ct(anndata, ct_column, ct, donor_column, age_column, marker_genes = None, min_cells = 20):\n",
    "        \n",
    "    # Keep rows annotated with current cell type, and columns annotated with marker genes,  \n",
    "    ct_anndata = anndata[anndata.obs[ct_column] == ct, :]\n",
    "    ct_anndata = ct_anndata[:, ct_anndata.var_names.isin(marker_genes)]\n",
    "    \n",
    "    # Select subjects having number of cells greater than min_cells \n",
    "    subjects = ct_anndata.obs[donor_column]\n",
    "    subjects_count = subjects.groupby(subjects.values).count()\n",
    "    selected_subjects = subjects_count.loc[subjects_count >= min_cells].index \n",
    "    \n",
    "    # Further subset anndata using the selected subjects\n",
    "    ct_anndata = ct_anndata[ct_anndata.obs[donor_column].isin(selected_subjects),]\n",
    "    \n",
    "    # Generate filtered expression matrix and ages\n",
    "    expr = ct_anndata.to_df()\n",
    "    expr.index = ct_anndata.obs[donor_column].values\n",
    "    ages = ct_anndata.obs[age_column]\n",
    "    ages.index = expr.index\n",
    "        \n",
    "    return expr, ages"
   ]
  },
  {
   "cell_type": "markdown",
   "metadata": {},
   "source": [
    "Extract data for the top cell types"
   ]
  },
  {
   "cell_type": "code",
   "execution_count": 11,
   "metadata": {},
   "outputs": [],
   "source": [
    "import warnings\n",
    "warnings.filterwarnings(\"ignore\")\n",
    "\n",
    "n_tops = 10\n",
    "iterator = []\n",
    "'''\n",
    "for idx,row in smoker_table.iloc[0:n_tops,].iterrows():\n",
    "    expr, ages = filter_anndata_single_ct(hlca_smoker,\n",
    "                                 ct_column = row[\"ann_level\"],\n",
    "                                 ct = row[\"cell_type\"],\n",
    "                                 donor_column = \"donor_id\",\n",
    "                                 age_column = \"age\",\n",
    "                                 marker_genes = test_genes[row[\"gene_type\"]],\n",
    "                                 min_cells = 50\n",
    "                                )\n",
    "    iterator.append([\n",
    "                        expr,\n",
    "                        ages,\n",
    "                        row[\"group\"],\n",
    "                        row[\"cell_type\"],\n",
    "                        row[\"ann_level\"],\n",
    "                        row[\"gene_type\"],\n",
    "                        row[\"use_pca\"],\n",
    "                        row[\"all_donor_num\"]\n",
    "                    ]\n",
    "                   )\n",
    "'''\n",
    "for idx,row in nonsmoker_table.iloc[0:n_tops,].iterrows():\n",
    "    expr, ages = filter_anndata_single_ct(hlca_nonsmoker,\n",
    "                                 ct_column = row[\"ann_level\"],\n",
    "                                 ct = row[\"cell_type\"],\n",
    "                                 donor_column = \"donor_id\",\n",
    "                                 age_column = \"age\",\n",
    "                                 marker_genes = test_genes[\"union\"],\n",
    "                                 min_cells = 50\n",
    "                                )\n",
    "    iterator.append([\n",
    "                        expr,\n",
    "                        ages,\n",
    "                        row[\"group\"],\n",
    "                        row[\"cell_type\"],\n",
    "                        row[\"ann_level\"],\n",
    "                        row[\"gene_type\"],\n",
    "                        row[\"use_pca\"],\n",
    "                        row[\"all_donor_num\"]\n",
    "                    ]\n",
    "                   )"
   ]
  },
  {
   "cell_type": "code",
   "execution_count": 12,
   "metadata": {},
   "outputs": [],
   "source": [
    "from sklearn.metrics import r2_score\n",
    "from sklearn.pipeline import make_pipeline\n",
    "from sklearn.decomposition import PCA\n",
    "from sklearn.linear_model import ElasticNet,LinearRegression\n",
    "from sklearn.preprocessing import StandardScaler\n",
    "\n",
    "from functools import partial,reduce\n",
    "from hyperopt import hp, Trials, fmin, tpe\n",
    "from hyperopt import space_eval\n",
    "import shap"
   ]
  },
  {
   "cell_type": "markdown",
   "metadata": {},
   "source": [
    "Train and test models"
   ]
  },
  {
   "cell_type": "code",
   "execution_count": 13,
   "metadata": {},
   "outputs": [],
   "source": [
    "def compute_features(expr, ages, mean_degree, var_degree, n_components, use_pca, pca_model):\n",
    "\n",
    "    if use_pca and pca_model is None:\n",
    "        pca_model = PCA(n_components=n_components, whiten=True)\n",
    "        expr = pd.DataFrame(pca_model.fit_transform(expr), index = expr.index)\n",
    "        expr.columns = [f\"PC{i+1}\" for i in range(expr.shape[1])]\n",
    "    elif use_pca and pca_model is not None:\n",
    "        expr = pd.DataFrame(pca_model.transform(expr), index = expr.index)\n",
    "        expr.columns = [f\"PC{i+1}\" for i in range(expr.shape[1])]\n",
    "        \n",
    "    # Get each subject/individual's mean expression and polynomials of mean expressions.\n",
    "    subjects = expr.index.to_list()\n",
    "    expr_mean = expr.groupby(subjects).mean()\n",
    "    expr_mean_poly = np.hstack([expr_mean**i for i in range(1, mean_degree+1)])\n",
    "    feature_names = np.hstack([[f\"{col}_mean^{deg}\" for col in expr.columns] for deg in range(1,mean_degree+1)]) # Name the polynomial features\n",
    "    expr_mean_poly = pd.DataFrame(\n",
    "                        expr_mean_poly,\n",
    "                        index = expr_mean.index,\n",
    "                        columns = feature_names \n",
    "                    )\n",
    "    \n",
    "    if var_degree > 0:\n",
    "\n",
    "        # Get each subject/indivisual's variances.\n",
    "        expr_var = expr.groupby(subjects).var()\n",
    "        expr_var.fillna(value=0,inplace=True) # This should not happen \n",
    "        expr_var_poly = np.hstack([expr_var**i for i in range(1, var_degree+1)])\n",
    "        feature_names = np.hstack([[f\"{col}_var^{deg}\" for col in expr.columns] for deg in range(1,var_degree+1)]) # Name the polynomial features\n",
    "        expr_var_poly = pd.DataFrame(\n",
    "                        expr_var_poly,\n",
    "                        index = expr_var.index,\n",
    "                        columns = feature_names \n",
    "                    )\n",
    "\n",
    "        # Concatenate mean and var polynomial features\n",
    "        X = pd.concat([expr_mean_poly,expr_var_poly],axis = 1)\n",
    "    else:\n",
    "        X = expr_mean_poly\n",
    "    \n",
    "    # Get Y\n",
    "    Y = ages.groupby(subjects).mean()\n",
    "    \n",
    "    return X,Y,pca_model"
   ]
  },
  {
   "cell_type": "code",
   "execution_count": 14,
   "metadata": {},
   "outputs": [],
   "source": [
    "def tune(param, expr, ages):\n",
    "    \n",
    "    '''\n",
    "    # Get Hyperparameters\n",
    "    '''\n",
    "    n_components = param['n_components']\n",
    "    mean_degree = param['mean_degree']\n",
    "    var_degree = param['var_degree']\n",
    "    alpha = param['alpha']\n",
    "    l1_ratio = param['l1_ratio']\n",
    "    \n",
    "    X = expr.copy()\n",
    "    Y = ages.copy()\n",
    "    \n",
    "    # Center and scale the data\n",
    "    X = StandardScaler().fit_transform(X)\n",
    "    Y = Y.values\n",
    "    Y = StandardScaler().fit_transform(Y.reshape(-1,1)).ravel()\n",
    "    \n",
    "    # Model fitting\n",
    "    polyreg = make_pipeline(ElasticNet(max_iter=40000, alpha=alpha, l1_ratio=l1_ratio))\n",
    "    polyreg.fit(X, Y)\n",
    "        \n",
    "    # Get predicted age for training data\n",
    "    pred = polyreg.predict(X)\n",
    "    \n",
    "    # Return negative R2 as loss\n",
    "    return(-r2_score(Y, pred))"
   ]
  },
  {
   "cell_type": "code",
   "execution_count": 15,
   "metadata": {},
   "outputs": [],
   "source": [
    "def train_and_select(X, Y, gene_names, use_pca, param_space, n_hyper_eval):\n",
    "    \n",
    "    feature_names = X.columns.tolist()\n",
    "    \n",
    "    # Partial will freeze some arguments for tune()\n",
    "    fmin_objective = partial(\n",
    "                            tune,\n",
    "                            expr=X,\n",
    "                            ages=Y\n",
    "                        )\n",
    "\n",
    "    # Search for the best hyperparameters on training data (May take long time if features are many)\n",
    "    param_best = fmin(fmin_objective,\n",
    "                        space = param_space,\n",
    "                        algo=tpe.suggest,\n",
    "                        max_evals=n_hyper_eval,\n",
    "                        verbose = False\n",
    "                     )\n",
    "    param_best = space_eval(param_space, param_best)\n",
    "\n",
    "    X = StandardScaler().fit_transform(X)\n",
    "\n",
    "    # Center and scale Y\n",
    "    Y = Y.values\n",
    "    Y = StandardScaler().fit_transform(Y.reshape(-1,1)).ravel()\n",
    "\n",
    "    # Use the best hyperparameters to fit a model on training data\n",
    "    polyreg = make_pipeline(ElasticNet(max_iter=40000, alpha=param_best['alpha'], l1_ratio=param_best['l1_ratio']))\n",
    "    polyreg.fit(X, Y)\n",
    "\n",
    "    # Extract non-zero feature indices\n",
    "    nz_idx = np.where(polyreg[0].coef_ != 0)[0]\n",
    "    \n",
    "    return nz_idx,feature_names,polyreg[0],param_best"
   ]
  },
  {
   "cell_type": "code",
   "execution_count": 16,
   "metadata": {},
   "outputs": [],
   "source": [
    "def get_model(X, Y, param_best):\n",
    "\n",
    "    X = StandardScaler().fit_transform(X)\n",
    "\n",
    "    # Center and scale Y\n",
    "    Y = Y.values\n",
    "    Y = StandardScaler().fit_transform(Y.reshape(-1,1)).ravel()\n",
    "\n",
    "    # Fit a linear model using the selected features\n",
    "    polyreg = make_pipeline(ElasticNet(max_iter=40000, alpha=param_best['alpha'], l1_ratio=param_best['l1_ratio']))\n",
    "    polyreg.fit(X, Y)\n",
    "    \n",
    "    return polyreg[0]"
   ]
  },
  {
   "cell_type": "markdown",
   "metadata": {},
   "source": [
    "This function runs shap computation and gets the ranking score for each gene"
   ]
  },
  {
   "cell_type": "code",
   "execution_count": 17,
   "metadata": {},
   "outputs": [],
   "source": [
    "def get_gene_score(X,Y,gene_names,feature_names,model,pca_model):\n",
    "    \n",
    "    # Get shap values with zeros as background\n",
    "    background = np.zeros((1,X.shape[1]))\n",
    "    e = shap.explainers.Linear(model, background)\n",
    "    shap_values = e.shap_values(X)\n",
    "    scores = np.abs(shap_values).sum(axis = 0)\n",
    "        \n",
    "    if pca_model is None:\n",
    "        scores = scores.reshape(int(scores.shape[0]/len(gene_names)),len(gene_names))\n",
    "        scores = scores.sum(axis = 0)\n",
    "        scores = pd.DataFrame(scores,index = gene_names,columns = [\"score\"]).sort_values(by = \"score\", ascending = False)\n",
    "    else:\n",
    "        scores = scores.reshape(int(scores.shape[0]/pca_model.components_.shape[0]),pca_model.components_.shape[0])\n",
    "        scores = scores.sum(axis = 0)\n",
    "        eigen_mat = pca_model.components_\n",
    "        eigen_mat_inv = np.linalg.pinv(eigen_mat)\n",
    "        scores = np.abs(np.matmul(eigen_mat_inv, scores))\n",
    "        scores = pd.DataFrame(scores,index = gene_names,columns = [\"score\"]).sort_values(by = \"score\", ascending = False)\n",
    "    \n",
    "    return scores"
   ]
  },
  {
   "cell_type": "markdown",
   "metadata": {},
   "source": [
    "### Main analysis pipeline"
   ]
  },
  {
   "cell_type": "code",
   "execution_count": 31,
   "metadata": {},
   "outputs": [
    {
     "name": "stdout",
     "output_type": "stream",
     "text": [
      "Running group nonsmoker; Cell type Basal resting; Gene type all_nonsmoker; PCA False; 1/10\n",
      "Computing SHAP...\n",
      "Generating null dstribution for SHAP by random permutation...\n"
     ]
    },
    {
     "name": "stderr",
     "output_type": "stream",
     "text": [
      "100%|██████████| 453/453 [00:09<00:00, 46.31it/s]\n"
     ]
    },
    {
     "name": "stdout",
     "output_type": "stream",
     "text": [
      "Running group nonsmoker; Cell type Basal; Gene type all_nonsmoker; PCA False; 2/10\n",
      "Computing SHAP...\n",
      "Generating null dstribution for SHAP by random permutation...\n"
     ]
    },
    {
     "name": "stderr",
     "output_type": "stream",
     "text": [
      "100%|██████████| 453/453 [00:00<00:00, 11061.61it/s]\n"
     ]
    },
    {
     "name": "stdout",
     "output_type": "stream",
     "text": [
      "Running group nonsmoker; Cell type Suprabasal; Gene type all_nonsmoker; PCA False; 3/10\n",
      "Computing SHAP...\n",
      "Generating null dstribution for SHAP by random permutation...\n"
     ]
    },
    {
     "name": "stderr",
     "output_type": "stream",
     "text": [
      "100%|██████████| 453/453 [00:00<00:00, 8442.02it/s]\n"
     ]
    },
    {
     "name": "stdout",
     "output_type": "stream",
     "text": [
      "Running group nonsmoker; Cell type EC venous systemic; Gene type union; PCA True; 4/10\n",
      "Computing SHAP...\n",
      "Generating null dstribution for SHAP by random permutation...\n"
     ]
    },
    {
     "name": "stderr",
     "output_type": "stream",
     "text": [
      "100%|██████████| 453/453 [00:06<00:00, 64.81it/s] \n"
     ]
    },
    {
     "name": "stdout",
     "output_type": "stream",
     "text": [
      "Running group nonsmoker; Cell type Club (non-nasal); Gene type cellage; PCA False; 5/10\n",
      "Computing SHAP...\n",
      "Generating null dstribution for SHAP by random permutation...\n"
     ]
    },
    {
     "name": "stderr",
     "output_type": "stream",
     "text": [
      "100%|██████████| 453/453 [00:00<00:00, 13771.95it/s]\n"
     ]
    },
    {
     "name": "stdout",
     "output_type": "stream",
     "text": [
      "Running group nonsmoker; Cell type Club; Gene type cellage; PCA False; 6/10\n",
      "Computing SHAP...\n",
      "Generating null dstribution for SHAP by random permutation...\n"
     ]
    },
    {
     "name": "stderr",
     "output_type": "stream",
     "text": [
      "100%|██████████| 453/453 [00:00<00:00, 13150.02it/s]\n"
     ]
    },
    {
     "name": "stdout",
     "output_type": "stream",
     "text": [
      "Running group nonsmoker; Cell type Lymphatic EC mature; Gene type senmayo; PCA False; 7/10\n",
      "Computing SHAP...\n",
      "Generating null dstribution for SHAP by random permutation...\n"
     ]
    },
    {
     "name": "stderr",
     "output_type": "stream",
     "text": [
      "100%|██████████| 453/453 [00:00<00:00, 9323.92it/s]\n"
     ]
    },
    {
     "name": "stdout",
     "output_type": "stream",
     "text": [
      "Running group nonsmoker; Cell type Lymphatic EC; Gene type senmayo; PCA False; 8/10\n",
      "Computing SHAP...\n",
      "Generating null dstribution for SHAP by random permutation...\n"
     ]
    },
    {
     "name": "stderr",
     "output_type": "stream",
     "text": [
      "100%|██████████| 453/453 [00:00<00:00, 11420.86it/s]\n"
     ]
    },
    {
     "name": "stdout",
     "output_type": "stream",
     "text": [
      "Running group nonsmoker; Cell type EC general capillary; Gene type union; PCA True; 9/10\n",
      "Computing SHAP...\n",
      "Generating null dstribution for SHAP by random permutation...\n"
     ]
    },
    {
     "name": "stderr",
     "output_type": "stream",
     "text": [
      "100%|██████████| 453/453 [00:00<00:00, 3464.19it/s]\n"
     ]
    },
    {
     "name": "stdout",
     "output_type": "stream",
     "text": [
      "Running group nonsmoker; Cell type Fibroblast lineage; Gene type sasp2; PCA True; 10/10\n",
      "Computing SHAP...\n",
      "Generating null dstribution for SHAP by random permutation...\n"
     ]
    },
    {
     "name": "stderr",
     "output_type": "stream",
     "text": [
      "100%|██████████| 453/453 [00:10<00:00, 42.75it/s] \n"
     ]
    }
   ],
   "source": [
    "from joblib import delayed, Parallel\n",
    "import warnings\n",
    "\n",
    "def run_all(expr, ages, group, ct, ct_column, gene_type, use_pca, donor_num, n_hyper_eval, n_permute, n_jobs):\n",
    "    warnings.filterwarnings(\"ignore\")\n",
    "\n",
    "    # Define hyperparameter search space\n",
    "    param_space = {'n_components' : hp.choice('n_components', [10]),\n",
    "                 'mean_degree': hp.choice('mean_degree', [2]),\n",
    "                 'var_degree': hp.choice('var_degree', [2]), \n",
    "                 'alpha': hp.choice('alpha', [0.001, 0.01, 0.1, 1, 10, 100]), \n",
    "                 'l1_ratio': hp.uniform('l1_ratio', 0.1, 1.0)\n",
    "        }\n",
    "    \n",
    "    # Get actual SHAP scores\n",
    "    print(\"Computing SHAP...\")\n",
    "    \n",
    "    gene_names = expr.columns.tolist()\n",
    "    X, Y, pca_model = compute_features(expr, ages, mean_degree=2, var_degree=2, n_components=10, use_pca = use_pca, pca_model=None)\n",
    "    nz_idx,feature_names,model,param_best = train_and_select(X, Y, gene_names, use_pca, param_space, n_hyper_eval)\n",
    "    scores = get_gene_score(X=X,\n",
    "                            Y=Y,\n",
    "                            gene_names=gene_names,\n",
    "                            feature_names=feature_names,\n",
    "                            model=model,\n",
    "                            pca_model=pca_model\n",
    "                           )\n",
    "    \n",
    "    # Use this to store distribution of SHAP score\n",
    "    shap_distr = pd.DataFrame(np.zeros((expr.shape[1],n_permute)), index = gene_names)\n",
    "    \n",
    "    # Get a null distribution of SHAP score from random permutations\n",
    "    print(\"Generating null dstribution for SHAP by random permutation...\")\n",
    "    def get_null_distr(gene,scores):\n",
    "        \n",
    "        # No need to generate distribution if SHAP score == 0\n",
    "        if scores.loc[gene][0] == 0:\n",
    "            return gene, [1]*n_permute\n",
    "        \n",
    "        distr = []\n",
    "        expr_perm = expr.copy()\n",
    "        for i in range(n_permute):\n",
    "            expr_perm.loc[:,gene] = np.random.choice(expr_perm.loc[:,gene].values, expr_perm.shape[0])\n",
    "            X, Y, pca_model = compute_features(expr_perm, ages, mean_degree=2, var_degree=2, n_components=10, use_pca = use_pca, pca_model=None)           \n",
    "            model = get_model(X,Y,param_best)\n",
    "            scores_perm = get_gene_score(X=X,\n",
    "                            Y=Y,\n",
    "                            gene_names=gene_names,\n",
    "                            feature_names=feature_names,\n",
    "                            model=model,\n",
    "                            pca_model=pca_model\n",
    "                           )\n",
    "            distr.append(scores_perm.loc[gene][0])\n",
    "        return(gene, distr)\n",
    "    \n",
    "    res = Parallel(n_jobs = n_jobs)(delayed(get_null_distr)(gene,scores) for gene in tqdm(gene_names))\n",
    "    for gene, distr in res:\n",
    "        shap_distr.iloc[shap_distr.index.get_loc(gene),:] = distr\n",
    "    \n",
    "    # Get p-values\n",
    "    shap_distr = shap_distr.loc[scores.index,]\n",
    "    counts = ((shap_distr.values - scores.values) >= 0).sum(axis = 1)\n",
    "    pvals = pd.Series(counts/shap_distr.shape[1], index = scores.index)\n",
    "    \n",
    "    return ct_column,group,ct,gene_type,use_pca,nz_idx,gene_names,feature_names,pca_model,donor_num,scores,pvals\n",
    "\n",
    "res = []\n",
    "for i,(expr,ages,group,ct,ct_column,gene_type,use_pca,donor_num) in enumerate(iterator):\n",
    "    print(f\"Running group {group}; Cell type {ct}; Gene type {gene_type}; PCA {use_pca}; {i+1}/{len(iterator)}\")\n",
    "    res.append(run_all(expr,\n",
    "                      ages,\n",
    "                      group,\n",
    "                      ct,\n",
    "                      ct_column,\n",
    "                      gene_type,\n",
    "                      use_pca,\n",
    "                      donor_num,\n",
    "                      n_hyper_eval = 30,\n",
    "                      n_permute = 100,\n",
    "                      n_jobs = 120\n",
    "                    ))          "
   ]
  },
  {
   "cell_type": "markdown",
   "metadata": {},
   "source": [
    "Save results"
   ]
  },
  {
   "cell_type": "code",
   "execution_count": 32,
   "metadata": {},
   "outputs": [],
   "source": [
    "import pickle\n",
    "\n",
    "with open('results/gene_selection_ranking/all_selected_ranked_nonsmoker_union_only.pickle', 'wb') as handle:\n",
    "    pickle.dump(res, handle, protocol=pickle.HIGHEST_PROTOCOL)"
   ]
  },
  {
   "cell_type": "markdown",
   "metadata": {},
   "source": [
    "Save scores and pvalue in excel file"
   ]
  },
  {
   "cell_type": "code",
   "execution_count": 33,
   "metadata": {},
   "outputs": [],
   "source": [
    "with pd.ExcelWriter(\"results/gene_selection_ranking/score_pval_hlca_nonsmoker_union_only.xlsx\") as writer: \n",
    "    for ct_column,group,ct,gene_type,use_pca,nz_idx,gene_names,feature_names,pca_model,donor_num,scores,pvals in res:\n",
    "        scores[\"pval\"] = pvals\n",
    "        scores = scores.loc[scores[\"pval\"] < 0.05,]\n",
    "        scores.to_excel(writer, sheet_name = f\"{ct}\")"
   ]
  }
 ],
 "metadata": {
  "kernelspec": {
   "display_name": "lung_aging",
   "language": "python",
   "name": "lung_aging"
  },
  "language_info": {
   "codemirror_mode": {
    "name": "ipython",
    "version": 3
   },
   "file_extension": ".py",
   "mimetype": "text/x-python",
   "name": "python",
   "nbconvert_exporter": "python",
   "pygments_lexer": "ipython3",
   "version": "3.9.13"
  }
 },
 "nbformat": 4,
 "nbformat_minor": 4
}
