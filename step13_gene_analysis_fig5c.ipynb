{
 "cells": [
  {
   "cell_type": "markdown",
   "id": "0970d978",
   "metadata": {},
   "source": [
    "**Load ranking results** "
   ]
  },
  {
   "cell_type": "code",
   "execution_count": 1,
   "id": "52df8282",
   "metadata": {},
   "outputs": [],
   "source": [
    "import pickle\n",
    "\n",
    "# Ranking results from union of senescence markers\n",
    "with open('results/gene_selection_ranking/all_selected_ranked_hlca_nonsmoker_union_only.pickle', 'rb') as handle:\n",
    "    ranking_union = pickle.load(handle)\n",
    "\n",
    "# Ranking results from all expressed genes\n",
    "with open('results/gene_selection_ranking/all_selected_ranked_hlca_nonsmoker.pickle', 'rb') as handle:\n",
    "    ranking_all = pickle.load(handle)\n",
    "    \n",
    "for ct_column,group,ct,gene_type,use_pca,nz_idx,gene_names,feature_names,pca_model,donor_num,scores,pvals in ranking_all:\n",
    "    if gene_type == \"all_nonsmoker\":\n",
    "        all_genes = gene_names"
   ]
  },
  {
   "cell_type": "markdown",
   "id": "08d7e8e6",
   "metadata": {},
   "source": [
    "**Load senescence markers**"
   ]
  },
  {
   "cell_type": "code",
   "execution_count": 2,
   "id": "a0d3dd13",
   "metadata": {},
   "outputs": [],
   "source": [
    "from functools import reduce\n",
    "import pandas as pd\n",
    "import numpy as np\n",
    "\n",
    "test_genes = {\"fridman\":[\"ALDH1A3\", \"AOPEP\", \"CCND1\", \"CD44\", \"CDKN1A\", \"CDKN1C\", \"CDKN2A\", \"CDKN2B\", \"CDKN2D\", \"CITED2\",\n",
    "                                \"CLTB\", \"COL1A2\",\"CREG1\",\"CRYAB\",\"CCN2\",\"CXCL14\",\"CYP1B1\",\"EIF2S2\",\"ESM1\",\"F3\",\"FILIP1L\",\"FN1\",\"GSN\",\"GUK1\",\"HBS1L\",\n",
    "                                \"HPS5\",\"HSPA2\",\"HTATIP2\",\"IFI16\",\"IFNG\",\"IGFBP1\",\"IGFBP2\",\"IGFBP3\",\"IGFBP4\",\"IGFBP5\",\"IGFBP6\",\"IGFBP7\",\"IGSF3\",\n",
    "                                \"ING1\",\"IRF5\",\"IRF7\",\"ISG15\",\"MAP1LC3B\",\"MAP2K3\",\"MDM2\",\"MMP1\",\"NDN\",\"NME2\",\"NRG1\",\"OPTN\",\"PEA15\",\"RAB13\",\"RAB31\",\n",
    "                                \"RAB5B\",\"RABGGTA\",\"RAC1\",\"RBL2\",\"RGL2\",\"RHOB\",\"RRAS\",\"S100A11\",\"SERPINB2\",\"SERPINE1\",\"SMPD1\",\"SMURF2\",\"SOD1\",\"SPARC\",\n",
    "                                \"STAT1\",\"TES\",\"TFAP2A\",\"TGFB1I1\",\"THBS1\",\"TNFAIP2\",\"TNFAIP3\",\"TP53\",\"TSPYL5\",\"VIM\",\"ALDH1A1\",\"BMI1\",\"CCNB1\",\"CDC25B\",\n",
    "                                \"CKS1BP7\",\"COL3A1\",\"E2F4\",\"EGR1\",\"ID1\",\"LAMA1\",\"LDB2\",\"MARCKS\",\"CCN4\"],\n",
    "              \"sasp2\":[\"VEGFA\", \"TNFRSF12A\", \"TNFRSF10C\", \"TNFRSF10B\", \"TIMP2\", \"TIMP1\", \"TGFB1\", \"SERPINE1\", \"TNFRSF1A\",\n",
    "                                    \"PLAUR\", \"PLAU\", \"MMP14\", \"MMP13\", \"MMP7\", \"MMP3\", \"MIF\", \"LMNA\", \"KITLG\", \"IL32\", \"IGFBP7\", \"IGFBP2\",\n",
    "                                     \"ICAM1\", \"FAS\", \"EREG\", \"CXCL17\", \"CXCL16\", \"CXCL8\", \"CXCL1\", \"CTSB\", \"CLU\", \"CCL20\", \"CCL2\", \"BTC\",\n",
    "                                     \"AREG\"\n",
    "                                  ],\n",
    "              \"senmayo\":pd.read_excel(\"data/senescence_list.xlsx\",sheet_name=\"SenMayo\")[\"symbol\"].tolist(),\n",
    "              \"cellage\":pd.read_excel(\"data/senescence_list.xlsx\",sheet_name=\"CellAge Senescence Genes\")[\"Symbol\"].tolist()\n",
    "                }\n",
    "\n",
    "test_genes[\"union\"] = reduce(np.union1d, [test_genes[\"fridman\"],\n",
    "                    test_genes[\"sasp2\"],\n",
    "                    test_genes[\"senmayo\"],\n",
    "                    test_genes[\"cellage\"]]\n",
    "      )"
   ]
  },
  {
   "cell_type": "markdown",
   "id": "290086d9",
   "metadata": {},
   "source": [
    "**Get significant genes for 'Basal', 'Basal resting', and 'Suprabasal'**"
   ]
  },
  {
   "cell_type": "code",
   "execution_count": 3,
   "id": "0d078aa6",
   "metadata": {},
   "outputs": [
    {
     "name": "stderr",
     "output_type": "stream",
     "text": [
      "100%|██████████| 10/10 [00:00<00:00, 6721.64it/s]\n"
     ]
    }
   ],
   "source": [
    "from tqdm import tqdm\n",
    "\n",
    "ct_scores_all = dict()\n",
    "for ct_column,group,ct,gene_type,use_pca,nz_idx,gene_names,feature_names,pca_model,donor_num,scores,pvals in tqdm(ranking_all):\n",
    "    select = (ct == \"Basal\" or ct == \"Basal resting\" or ct == \"Suprabasal\" and group == \"nonsmoker\")\n",
    "    \n",
    "    if select:\n",
    "        scores[\"rank\"] = np.arange(1,scores.shape[0]+1)\n",
    "        scores[\"pval\"] = pvals\n",
    "        ct_scores_all[ct] = scores"
   ]
  },
  {
   "cell_type": "code",
   "execution_count": 4,
   "id": "98417ce9",
   "metadata": {},
   "outputs": [
    {
     "name": "stderr",
     "output_type": "stream",
     "text": [
      "100%|██████████| 10/10 [00:00<00:00, 8845.01it/s]\n"
     ]
    }
   ],
   "source": [
    "ct_scores_union = dict()\n",
    "for ct_column,group,ct,gene_type,use_pca,nz_idx,gene_names,feature_names,pca_model,donor_num,scores,pvals in tqdm(ranking_union):\n",
    "    select = (ct == \"Basal\" or ct == \"Basal resting\" or ct == \"Suprabasal\" and group == \"nonsmoker\")\n",
    "    \n",
    "    if select:\n",
    "        scores[\"rank\"] = np.arange(1,scores.shape[0]+1)\n",
    "        scores[\"pval\"] = pvals\n",
    "        ct_scores_union[ct] = scores"
   ]
  },
  {
   "cell_type": "markdown",
   "id": "2fde9b69",
   "metadata": {},
   "source": [
    "**Compute p-values for the overlap among three cell types**"
   ]
  },
  {
   "cell_type": "code",
   "execution_count": 5,
   "id": "72894b6f",
   "metadata": {},
   "outputs": [],
   "source": [
    "def compute_pval(ct_scores, background_genes, sample_num=10000):\n",
    "    \n",
    "    # Extract significant genes\n",
    "    sig_genes = []\n",
    "    for ct,scores in ct_scores.items():\n",
    "        sig_genes.append(scores.loc[scores[\"pval\"] <= 0.05, ].index)\n",
    "        print(f\"{ct}: {sig_genes[-1].shape[0]}\")\n",
    "    \n",
    "    # Generate null distribution\n",
    "    distr = []\n",
    "    for i in tqdm(range(sample_num)):\n",
    "        sampled_genes = [np.random.choice(background_genes, genes.shape[0], replace = False) for genes in sig_genes]\n",
    "        distr.append(reduce(np.intersect1d, sampled_genes).shape[0])\n",
    "    \n",
    "    # Compute p-value\n",
    "    distr = np.array(distr)\n",
    "    overlap = reduce(np.intersect1d, sig_genes)\n",
    "    pval = distr[distr > overlap.shape[0]].shape[0] / distr.shape[0]\n",
    "    \n",
    "    return pval"
   ]
  },
  {
   "cell_type": "code",
   "execution_count": 6,
   "id": "e5c48956",
   "metadata": {},
   "outputs": [],
   "source": [
    "def get_common_genes_and_rank(ct_scores):\n",
    "    \n",
    "    # Extract significant genes\n",
    "    sig_genes = []\n",
    "    for ct,scores in ct_scores.items():\n",
    "        sig_genes.append(scores.loc[scores[\"pval\"] <= 0.05, ].index)\n",
    "        \n",
    "    # Get overlap genes\n",
    "    overlap = reduce(np.intersect1d, sig_genes)\n",
    "    sum_rank = reduce(lambda x,y: x.loc[overlap,[\"rank\"]] + y.loc[overlap,[\"rank\"]], ct_scores.values())\n",
    "    mean_rank = (sum_rank/len(ct_scores)).sort_values(by = \"rank\")\n",
    "    \n",
    "    return mean_rank"
   ]
  },
  {
   "cell_type": "markdown",
   "id": "84060732",
   "metadata": {},
   "source": [
    "Compute p-values for the overlap"
   ]
  },
  {
   "cell_type": "code",
   "execution_count": 7,
   "id": "f588d9cb",
   "metadata": {},
   "outputs": [
    {
     "name": "stdout",
     "output_type": "stream",
     "text": [
      "Basal resting: 181\n",
      "Basal: 35\n",
      "Suprabasal: 202\n"
     ]
    },
    {
     "name": "stderr",
     "output_type": "stream",
     "text": [
      "100%|██████████| 10000/10000 [02:11<00:00, 76.01it/s]\n"
     ]
    },
    {
     "name": "stdout",
     "output_type": "stream",
     "text": [
      "Basal resting: 67\n",
      "Basal: 63\n",
      "Suprabasal: 36\n"
     ]
    },
    {
     "name": "stderr",
     "output_type": "stream",
     "text": [
      "100%|██████████| 10000/10000 [00:01<00:00, 8570.63it/s]\n"
     ]
    }
   ],
   "source": [
    "pval_all = compute_pval(ct_scores_all, background_genes = all_genes)\n",
    "pval_union = compute_pval(ct_scores_union, background_genes = test_genes['union'])"
   ]
  },
  {
   "cell_type": "code",
   "execution_count": 8,
   "id": "d12d29c5",
   "metadata": {},
   "outputs": [
    {
     "name": "stdout",
     "output_type": "stream",
     "text": [
      "p-value for all expressed genes: 0.0; p-value for union of senescence markers:0.0\n"
     ]
    }
   ],
   "source": [
    "print(f\"p-value for all expressed genes: {pval_all}; p-value for union of senescence markers:{pval_union}\")"
   ]
  },
  {
   "cell_type": "code",
   "execution_count": 9,
   "id": "8892d498",
   "metadata": {},
   "outputs": [],
   "source": [
    "rnk_all = get_common_genes_and_rank(ct_scores_all)\n",
    "rnk_union = get_common_genes_and_rank(ct_scores_union)"
   ]
  },
  {
   "cell_type": "code",
   "execution_count": 18,
   "id": "82cad59d",
   "metadata": {},
   "outputs": [
    {
     "data": {
      "text/html": [
       "<div>\n",
       "<style scoped>\n",
       "    .dataframe tbody tr th:only-of-type {\n",
       "        vertical-align: middle;\n",
       "    }\n",
       "\n",
       "    .dataframe tbody tr th {\n",
       "        vertical-align: top;\n",
       "    }\n",
       "\n",
       "    .dataframe thead th {\n",
       "        text-align: right;\n",
       "    }\n",
       "</style>\n",
       "<table border=\"1\" class=\"dataframe\">\n",
       "  <thead>\n",
       "    <tr style=\"text-align: right;\">\n",
       "      <th></th>\n",
       "      <th>THOC3</th>\n",
       "      <th>PMAIP1</th>\n",
       "      <th>RHOB</th>\n",
       "      <th>INKA1</th>\n",
       "      <th>FAHD2A</th>\n",
       "      <th>CARS1</th>\n",
       "      <th>FGF7</th>\n",
       "    </tr>\n",
       "  </thead>\n",
       "  <tbody>\n",
       "    <tr>\n",
       "      <th>rank</th>\n",
       "      <td>18.667</td>\n",
       "      <td>20.333</td>\n",
       "      <td>27.333</td>\n",
       "      <td>31.667</td>\n",
       "      <td>67.333</td>\n",
       "      <td>80.0</td>\n",
       "      <td>91.667</td>\n",
       "    </tr>\n",
       "  </tbody>\n",
       "</table>\n",
       "</div>"
      ],
      "text/plain": [
       "       THOC3  PMAIP1    RHOB   INKA1  FAHD2A  CARS1    FGF7\n",
       "rank  18.667  20.333  27.333  31.667  67.333   80.0  91.667"
      ]
     },
     "execution_count": 18,
     "metadata": {},
     "output_type": "execute_result"
    }
   ],
   "source": [
    "np.round(rnk_all,3).transpose()"
   ]
  },
  {
   "cell_type": "code",
   "execution_count": 11,
   "id": "160c65e4",
   "metadata": {},
   "outputs": [
    {
     "data": {
      "text/html": [
       "<div>\n",
       "<style scoped>\n",
       "    .dataframe tbody tr th:only-of-type {\n",
       "        vertical-align: middle;\n",
       "    }\n",
       "\n",
       "    .dataframe tbody tr th {\n",
       "        vertical-align: top;\n",
       "    }\n",
       "\n",
       "    .dataframe thead th {\n",
       "        text-align: right;\n",
       "    }\n",
       "</style>\n",
       "<table border=\"1\" class=\"dataframe\">\n",
       "  <thead>\n",
       "    <tr style=\"text-align: right;\">\n",
       "      <th></th>\n",
       "      <th>FOS</th>\n",
       "      <th>JUN</th>\n",
       "      <th>IGFBP2</th>\n",
       "      <th>PSMB5</th>\n",
       "      <th>RHOB</th>\n",
       "      <th>MARCKS</th>\n",
       "      <th>EGR1</th>\n",
       "      <th>CD55</th>\n",
       "      <th>VIM</th>\n",
       "      <th>FGF7</th>\n",
       "      <th>GLB1</th>\n",
       "      <th>CBX7</th>\n",
       "      <th>TNFRSF1A</th>\n",
       "      <th>ISG15</th>\n",
       "    </tr>\n",
       "  </thead>\n",
       "  <tbody>\n",
       "    <tr>\n",
       "      <th>rank</th>\n",
       "      <td>2.333</td>\n",
       "      <td>5.667</td>\n",
       "      <td>6.333</td>\n",
       "      <td>7.667</td>\n",
       "      <td>9.0</td>\n",
       "      <td>11.667</td>\n",
       "      <td>12.667</td>\n",
       "      <td>14.667</td>\n",
       "      <td>19.0</td>\n",
       "      <td>19.333</td>\n",
       "      <td>28.0</td>\n",
       "      <td>28.667</td>\n",
       "      <td>30.0</td>\n",
       "      <td>42.0</td>\n",
       "    </tr>\n",
       "  </tbody>\n",
       "</table>\n",
       "</div>"
      ],
      "text/plain": [
       "        FOS    JUN  IGFBP2  PSMB5  RHOB  MARCKS    EGR1    CD55   VIM    FGF7  \\\n",
       "rank  2.333  5.667   6.333  7.667   9.0  11.667  12.667  14.667  19.0  19.333   \n",
       "\n",
       "      GLB1    CBX7  TNFRSF1A  ISG15  \n",
       "rank  28.0  28.667      30.0   42.0  "
      ]
     },
     "execution_count": 11,
     "metadata": {},
     "output_type": "execute_result"
    }
   ],
   "source": [
    "np.round(rnk_union,3).transpose()"
   ]
  }
 ],
 "metadata": {
  "kernelspec": {
   "display_name": "lung_aging",
   "language": "python",
   "name": "lung_aging"
  },
  "language_info": {
   "codemirror_mode": {
    "name": "ipython",
    "version": 3
   },
   "file_extension": ".py",
   "mimetype": "text/x-python",
   "name": "python",
   "nbconvert_exporter": "python",
   "pygments_lexer": "ipython3",
   "version": "3.9.13"
  }
 },
 "nbformat": 4,
 "nbformat_minor": 5
}
